{
 "cells": [
  {
   "cell_type": "markdown",
   "metadata": {},
   "source": [
    "# Exploring full dataset with Pandas"
   ]
  },
  {
   "cell_type": "markdown",
   "metadata": {},
   "source": [
    "1. Read all meeting record files into a list"
   ]
  },
  {
   "cell_type": "code",
   "execution_count": 106,
   "metadata": {
    "collapsed": true
   },
   "outputs": [],
   "source": [
    "import glob\n",
    "\n",
    "# read all files in directory into a list, where 1 file = 1 list element\n",
    "list_of_meetings = []\n",
    "for filename in glob.glob('corpus/meeting_records_clean_final/*.txt'):\n",
    "     with open(filename, 'r') as f:\n",
    "         list_of_meetings.append(f.read())\n",
    "         f.close()"
   ]
  },
  {
   "cell_type": "markdown",
   "metadata": {},
   "source": [
    "Check to make sure we got them all:"
   ]
  },
  {
   "cell_type": "code",
   "execution_count": 107,
   "metadata": {
    "collapsed": false
   },
   "outputs": [
    {
     "data": {
      "text/plain": [
       "1236"
      ]
     },
     "execution_count": 107,
     "metadata": {},
     "output_type": "execute_result"
    }
   ],
   "source": [
    "len(list_of_meetings) # should be 1236"
   ]
  },
  {
   "cell_type": "code",
   "execution_count": 108,
   "metadata": {
    "collapsed": true
   },
   "outputs": [],
   "source": [
    "import pandas as pd\n",
    "meetingseries = pd.Series(list_of_meetings)\n",
    "\n",
    "# create DF from Series\n",
    "meetingframe = meetingseries.to_frame('meeting_text') # create new df, name column \"meeting_text\"\n",
    "\n",
    "# set index for dataframe merge\n",
    "meetingframe['id'] = meetingframe.index\n",
    "\n",
    "# read in working CSV file\n",
    "# working dir: UN/\n",
    "recs = pd.read_table('clean_records_copy.csv', sep=',')\n",
    "\n",
    "# set index for df merge\n",
    "recs['id'] = recs.index\n",
    "\n",
    "# Merge on 'id'\n",
    "full_data = pd.merge(recs, meetingframe)\n",
    "         \n",
    "# drop 'id' column\n",
    "full_data.drop('id', axis=1, inplace=True)"
   ]
  },
  {
   "cell_type": "markdown",
   "metadata": {},
   "source": [
    "Look at new dataframe:"
   ]
  },
  {
   "cell_type": "code",
   "execution_count": 109,
   "metadata": {
    "collapsed": false
   },
   "outputs": [
    {
     "data": {
      "text/html": [
       "<div>\n",
       "<table border=\"1\" class=\"dataframe\">\n",
       "  <thead>\n",
       "    <tr style=\"text-align: right;\">\n",
       "      <th></th>\n",
       "      <th>record</th>\n",
       "      <th>day</th>\n",
       "      <th>press_release</th>\n",
       "      <th>topic</th>\n",
       "      <th>year</th>\n",
       "      <th>category</th>\n",
       "      <th>outcome</th>\n",
       "      <th>region</th>\n",
       "      <th>record_number</th>\n",
       "      <th>meeting_text</th>\n",
       "    </tr>\n",
       "  </thead>\n",
       "  <tbody>\n",
       "    <tr>\n",
       "      <th>0</th>\n",
       "      <td>S/PV.3326</td>\n",
       "      <td>6-Jan</td>\n",
       "      <td>SC/5770</td>\n",
       "      <td>Rwanda</td>\n",
       "      <td>1994</td>\n",
       "      <td>0</td>\n",
       "      <td>S/RES/893 (1994)</td>\n",
       "      <td>4</td>\n",
       "      <td>3326</td>\n",
       "      <td>ÔªøUNITED\\r\\nNATIONS\\r\\nS\\r\\nSecurity Council\\...</td>\n",
       "    </tr>\n",
       "    <tr>\n",
       "      <th>1</th>\n",
       "      <td>S/PV.3329</td>\n",
       "      <td>14-Jan</td>\n",
       "      <td>SC/5775</td>\n",
       "      <td>South Africa</td>\n",
       "      <td>1994</td>\n",
       "      <td>0</td>\n",
       "      <td>S/RES/894 (1994)</td>\n",
       "      <td>4</td>\n",
       "      <td>3329</td>\n",
       "      <td>ÔªøUNITED\\r\\nNATIONS\\r\\nS\\r\\nSecurity Council\\...</td>\n",
       "    </tr>\n",
       "    <tr>\n",
       "      <th>2</th>\n",
       "      <td>S/PV.3331</td>\n",
       "      <td>28-Jan</td>\n",
       "      <td>SC/5779</td>\n",
       "      <td>Middle East  UNIFIL</td>\n",
       "      <td>1994</td>\n",
       "      <td>0</td>\n",
       "      <td>S/RES/895 (1994)</td>\n",
       "      <td>3</td>\n",
       "      <td>3331</td>\n",
       "      <td>UNITED\\nSNATIONS\\nSecurity Council\\nPROVISIONA...</td>\n",
       "    </tr>\n",
       "    <tr>\n",
       "      <th>3</th>\n",
       "      <td>S/PV.3332</td>\n",
       "      <td>31-Jan</td>\n",
       "      <td>SC/5780</td>\n",
       "      <td>Georgia</td>\n",
       "      <td>1994</td>\n",
       "      <td>0</td>\n",
       "      <td>S/RES/896 (1994)</td>\n",
       "      <td>5</td>\n",
       "      <td>3332</td>\n",
       "      <td>UNITED\\nSNATIONS\\nSecurity Council\\nPROVISIONA...</td>\n",
       "    </tr>\n",
       "    <tr>\n",
       "      <th>4</th>\n",
       "      <td>S/PV.3334</td>\n",
       "      <td>4-Feb</td>\n",
       "      <td>SC/5782</td>\n",
       "      <td>Somalia</td>\n",
       "      <td>1994</td>\n",
       "      <td>1</td>\n",
       "      <td>S/RES/897 (1994)</td>\n",
       "      <td>4</td>\n",
       "      <td>3334</td>\n",
       "      <td>UNITEDUNITED\\nSNATIONSNATIONS\\nSecurity Counci...</td>\n",
       "    </tr>\n",
       "  </tbody>\n",
       "</table>\n",
       "</div>"
      ],
      "text/plain": [
       "      record     day press_release                topic  year  category  \\\n",
       "0  S/PV.3326   6-Jan       SC/5770               Rwanda  1994         0   \n",
       "1  S/PV.3329  14-Jan       SC/5775         South Africa  1994         0   \n",
       "2  S/PV.3331  28-Jan       SC/5779  Middle East  UNIFIL  1994         0   \n",
       "3  S/PV.3332  31-Jan       SC/5780              Georgia  1994         0   \n",
       "4  S/PV.3334   4-Feb       SC/5782              Somalia  1994         1   \n",
       "\n",
       "            outcome  region record_number  \\\n",
       "0  S/RES/893 (1994)       4          3326   \n",
       "1  S/RES/894 (1994)       4          3329   \n",
       "2  S/RES/895 (1994)       3          3331   \n",
       "3  S/RES/896 (1994)       5          3332   \n",
       "4  S/RES/897 (1994)       4          3334   \n",
       "\n",
       "                                        meeting_text  \n",
       "0  ÔªøUNITED\\r\\nNATIONS\\r\\nS\\r\\nSecurity Council\\...  \n",
       "1  ÔªøUNITED\\r\\nNATIONS\\r\\nS\\r\\nSecurity Council\\...  \n",
       "2  UNITED\\nSNATIONS\\nSecurity Council\\nPROVISIONA...  \n",
       "3  UNITED\\nSNATIONS\\nSecurity Council\\nPROVISIONA...  \n",
       "4  UNITEDUNITED\\nSNATIONSNATIONS\\nSecurity Counci...  "
      ]
     },
     "execution_count": 109,
     "metadata": {},
     "output_type": "execute_result"
    }
   ],
   "source": [
    "full_data.head()"
   ]
  },
  {
   "cell_type": "markdown",
   "metadata": {},
   "source": [
    "Look at overall mean value for \"category\" column to see what the intervention/soft action ratio is:"
   ]
  },
  {
   "cell_type": "code",
   "execution_count": 110,
   "metadata": {
    "collapsed": false
   },
   "outputs": [
    {
     "data": {
      "text/plain": [
       "0.40938511326860844"
      ]
     },
     "execution_count": 110,
     "metadata": {},
     "output_type": "execute_result"
    }
   ],
   "source": [
    "full_data.category.mean()"
   ]
  },
  {
   "cell_type": "markdown",
   "metadata": {},
   "source": [
    "**Conclusion**: On average, since 1994, the UN has been more likely to propose soft action than intervention."
   ]
  },
  {
   "cell_type": "markdown",
   "metadata": {},
   "source": [
    "##Regional distribution by action type\n",
    "\n",
    "Using split-apply-combine methods, we can analyze action type by region.\n",
    "\n",
    "### Region codes used:\n",
    "* 0 - General / Multi-Region (includes sanctions packages)\n",
    "* 1 - Central & Northeast Asia\n",
    "* 2 - Southeast Asia\n",
    "* 3 - Middle East / North Africa\n",
    "* 4 - Sub-Saharan Africa\n",
    "* 5 - Europe / Balkans\n",
    "* 6 - Central America / Caribbean (includes Haiti)"
   ]
  },
  {
   "cell_type": "code",
   "execution_count": 111,
   "metadata": {
    "collapsed": false
   },
   "outputs": [
    {
     "data": {
      "text/plain": [
       "region\n",
       "Central / NE Asia              0.309859\n",
       "Central America / Caribbean    0.500000\n",
       "Europe / Balkans               0.317536\n",
       "Middle East / North Africa     0.256098\n",
       "Southeast Asia                 0.115385\n",
       "Sub-Saharan Africa             0.569030\n",
       "general                        0.245283\n",
       "Name: category, dtype: float64"
      ]
     },
     "execution_count": 111,
     "metadata": {},
     "output_type": "execute_result"
    }
   ],
   "source": [
    "# First, map region codes to region names for easier interpretation\n",
    "full_data['region'] = full_data['region'].map({0: 'general', 1: 'Central / NE Asia', 2: 'Southeast Asia', 3: 'Middle East / North Africa', 4: 'Sub-Saharan Africa', 5: 'Europe / Balkans', 6: 'Central America / Caribbean'})\n",
    "\n",
    "# Use groupby to look at means:\n",
    "full_data.groupby('region').category.mean()"
   ]
  },
  {
   "cell_type": "markdown",
   "metadata": {},
   "source": [
    "* More interventions than soft action initiatives in: Sub-Saharan Africa (mean = 0.569)\n",
    "* Equal amounts of interventions and soft actions: Central America / Caribbean (mean = 0.5)\n",
    "* Lowest intervention/soft action ratio: Southeast Asia (mean = 0.11)"
   ]
  },
  {
   "cell_type": "markdown",
   "metadata": {},
   "source": [
    "### Intervention/soft action ratio by region"
   ]
  },
  {
   "cell_type": "code",
   "execution_count": 112,
   "metadata": {
    "collapsed": false
   },
   "outputs": [
    {
     "data": {
      "text/html": [
       "<div>\n",
       "<table border=\"1\" class=\"dataframe\">\n",
       "  <thead>\n",
       "    <tr style=\"text-align: right;\">\n",
       "      <th></th>\n",
       "      <th>count</th>\n",
       "      <th>mean</th>\n",
       "    </tr>\n",
       "    <tr>\n",
       "      <th>region</th>\n",
       "      <th></th>\n",
       "      <th></th>\n",
       "    </tr>\n",
       "  </thead>\n",
       "  <tbody>\n",
       "    <tr>\n",
       "      <th>Sub-Saharan Africa</th>\n",
       "      <td>536</td>\n",
       "      <td>0.569030</td>\n",
       "    </tr>\n",
       "    <tr>\n",
       "      <th>Central America / Caribbean</th>\n",
       "      <td>40</td>\n",
       "      <td>0.500000</td>\n",
       "    </tr>\n",
       "    <tr>\n",
       "      <th>Europe / Balkans</th>\n",
       "      <td>211</td>\n",
       "      <td>0.317536</td>\n",
       "    </tr>\n",
       "    <tr>\n",
       "      <th>Central / NE Asia</th>\n",
       "      <td>71</td>\n",
       "      <td>0.309859</td>\n",
       "    </tr>\n",
       "    <tr>\n",
       "      <th>Middle East / North Africa</th>\n",
       "      <td>246</td>\n",
       "      <td>0.256098</td>\n",
       "    </tr>\n",
       "    <tr>\n",
       "      <th>general</th>\n",
       "      <td>106</td>\n",
       "      <td>0.245283</td>\n",
       "    </tr>\n",
       "    <tr>\n",
       "      <th>Southeast Asia</th>\n",
       "      <td>26</td>\n",
       "      <td>0.115385</td>\n",
       "    </tr>\n",
       "  </tbody>\n",
       "</table>\n",
       "</div>"
      ],
      "text/plain": [
       "                             count      mean\n",
       "region                                      \n",
       "Sub-Saharan Africa             536  0.569030\n",
       "Central America / Caribbean     40  0.500000\n",
       "Europe / Balkans               211  0.317536\n",
       "Central / NE Asia               71  0.309859\n",
       "Middle East / North Africa     246  0.256098\n",
       "general                        106  0.245283\n",
       "Southeast Asia                  26  0.115385"
      ]
     },
     "execution_count": 112,
     "metadata": {},
     "output_type": "execute_result"
    }
   ],
   "source": [
    "full_data.groupby('region').category.agg(['count', 'mean']).sort('mean', ascending = False)"
   ]
  },
  {
   "cell_type": "markdown",
   "metadata": {},
   "source": [
    "### Resolution count by region, with corresponding intervention/soft action ratio"
   ]
  },
  {
   "cell_type": "code",
   "execution_count": 113,
   "metadata": {
    "collapsed": false
   },
   "outputs": [
    {
     "data": {
      "text/html": [
       "<div>\n",
       "<table border=\"1\" class=\"dataframe\">\n",
       "  <thead>\n",
       "    <tr style=\"text-align: right;\">\n",
       "      <th></th>\n",
       "      <th>count</th>\n",
       "      <th>mean</th>\n",
       "    </tr>\n",
       "    <tr>\n",
       "      <th>region</th>\n",
       "      <th></th>\n",
       "      <th></th>\n",
       "    </tr>\n",
       "  </thead>\n",
       "  <tbody>\n",
       "    <tr>\n",
       "      <th>Sub-Saharan Africa</th>\n",
       "      <td>536</td>\n",
       "      <td>0.569030</td>\n",
       "    </tr>\n",
       "    <tr>\n",
       "      <th>Middle East / North Africa</th>\n",
       "      <td>246</td>\n",
       "      <td>0.256098</td>\n",
       "    </tr>\n",
       "    <tr>\n",
       "      <th>Europe / Balkans</th>\n",
       "      <td>211</td>\n",
       "      <td>0.317536</td>\n",
       "    </tr>\n",
       "    <tr>\n",
       "      <th>general</th>\n",
       "      <td>106</td>\n",
       "      <td>0.245283</td>\n",
       "    </tr>\n",
       "    <tr>\n",
       "      <th>Central / NE Asia</th>\n",
       "      <td>71</td>\n",
       "      <td>0.309859</td>\n",
       "    </tr>\n",
       "    <tr>\n",
       "      <th>Central America / Caribbean</th>\n",
       "      <td>40</td>\n",
       "      <td>0.500000</td>\n",
       "    </tr>\n",
       "    <tr>\n",
       "      <th>Southeast Asia</th>\n",
       "      <td>26</td>\n",
       "      <td>0.115385</td>\n",
       "    </tr>\n",
       "  </tbody>\n",
       "</table>\n",
       "</div>"
      ],
      "text/plain": [
       "                             count      mean\n",
       "region                                      \n",
       "Sub-Saharan Africa             536  0.569030\n",
       "Middle East / North Africa     246  0.256098\n",
       "Europe / Balkans               211  0.317536\n",
       "general                        106  0.245283\n",
       "Central / NE Asia               71  0.309859\n",
       "Central America / Caribbean     40  0.500000\n",
       "Southeast Asia                  26  0.115385"
      ]
     },
     "execution_count": 113,
     "metadata": {},
     "output_type": "execute_result"
    }
   ],
   "source": [
    "full_data.groupby('region').category.agg(['count', 'mean']).sort('count', ascending = False)"
   ]
  },
  {
   "cell_type": "markdown",
   "metadata": {},
   "source": [
    "### Resolution count by topic, with intervention/soft action ratio "
   ]
  },
  {
   "cell_type": "code",
   "execution_count": 114,
   "metadata": {
    "collapsed": false
   },
   "outputs": [],
   "source": [
    "group1 = full_data.groupby('topic').category.agg(['count', 'mean']).sort('count', ascending = False)"
   ]
  },
  {
   "cell_type": "code",
   "execution_count": 115,
   "metadata": {
    "collapsed": false
   },
   "outputs": [
    {
     "data": {
      "text/html": [
       "<div>\n",
       "<table border=\"1\" class=\"dataframe\">\n",
       "  <thead>\n",
       "    <tr style=\"text-align: right;\">\n",
       "      <th></th>\n",
       "      <th>count</th>\n",
       "      <th>mean</th>\n",
       "    </tr>\n",
       "    <tr>\n",
       "      <th>topic</th>\n",
       "      <th></th>\n",
       "      <th></th>\n",
       "    </tr>\n",
       "  </thead>\n",
       "  <tbody>\n",
       "    <tr>\n",
       "      <th>Democratic Republic of the Congo</th>\n",
       "      <td>62</td>\n",
       "      <td>0.790323</td>\n",
       "    </tr>\n",
       "    <tr>\n",
       "      <th>Western Sahara</th>\n",
       "      <td>56</td>\n",
       "      <td>0.000000</td>\n",
       "    </tr>\n",
       "    <tr>\n",
       "      <th>Liberia</th>\n",
       "      <td>51</td>\n",
       "      <td>0.705882</td>\n",
       "    </tr>\n",
       "    <tr>\n",
       "      <th>Somalia</th>\n",
       "      <td>47</td>\n",
       "      <td>0.893617</td>\n",
       "    </tr>\n",
       "    <tr>\n",
       "      <th>Cote d'Ivoire</th>\n",
       "      <td>47</td>\n",
       "      <td>0.936170</td>\n",
       "    </tr>\n",
       "    <tr>\n",
       "      <th>Angola</th>\n",
       "      <td>46</td>\n",
       "      <td>0.347826</td>\n",
       "    </tr>\n",
       "    <tr>\n",
       "      <th>Iraq-Kuwait</th>\n",
       "      <td>44</td>\n",
       "      <td>0.931818</td>\n",
       "    </tr>\n",
       "    <tr>\n",
       "      <th>Cyprus</th>\n",
       "      <td>42</td>\n",
       "      <td>0.000000</td>\n",
       "    </tr>\n",
       "    <tr>\n",
       "      <th>Sierra Leone</th>\n",
       "      <td>39</td>\n",
       "      <td>0.384615</td>\n",
       "    </tr>\n",
       "    <tr>\n",
       "      <th>Afghanistan</th>\n",
       "      <td>39</td>\n",
       "      <td>0.487179</td>\n",
       "    </tr>\n",
       "    <tr>\n",
       "      <th>Bosnia and Herzegovina</th>\n",
       "      <td>39</td>\n",
       "      <td>0.641026</td>\n",
       "    </tr>\n",
       "    <tr>\n",
       "      <th>Georgia</th>\n",
       "      <td>36</td>\n",
       "      <td>0.000000</td>\n",
       "    </tr>\n",
       "    <tr>\n",
       "      <th>Haiti</th>\n",
       "      <td>35</td>\n",
       "      <td>0.571429</td>\n",
       "    </tr>\n",
       "    <tr>\n",
       "      <th>Sudan</th>\n",
       "      <td>34</td>\n",
       "      <td>0.558824</td>\n",
       "    </tr>\n",
       "    <tr>\n",
       "      <th>Middle East situation</th>\n",
       "      <td>31</td>\n",
       "      <td>0.096774</td>\n",
       "    </tr>\n",
       "    <tr>\n",
       "      <th>Eritrea-Ethiopia</th>\n",
       "      <td>28</td>\n",
       "      <td>0.071429</td>\n",
       "    </tr>\n",
       "    <tr>\n",
       "      <th>International Tribunal  Yugoslavia</th>\n",
       "      <td>28</td>\n",
       "      <td>0.500000</td>\n",
       "    </tr>\n",
       "    <tr>\n",
       "      <th>International Tribunal  Rwanda</th>\n",
       "      <td>27</td>\n",
       "      <td>0.481481</td>\n",
       "    </tr>\n",
       "    <tr>\n",
       "      <th>Timor-Leste</th>\n",
       "      <td>25</td>\n",
       "      <td>0.120000</td>\n",
       "    </tr>\n",
       "    <tr>\n",
       "      <th>Croatia</th>\n",
       "      <td>24</td>\n",
       "      <td>0.250000</td>\n",
       "    </tr>\n",
       "    <tr>\n",
       "      <th>Middle East  UNIFIL</th>\n",
       "      <td>23</td>\n",
       "      <td>0.000000</td>\n",
       "    </tr>\n",
       "    <tr>\n",
       "      <th>Peace and security  terrorist acts</th>\n",
       "      <td>22</td>\n",
       "      <td>0.454545</td>\n",
       "    </tr>\n",
       "    <tr>\n",
       "      <th>Rwanda</th>\n",
       "      <td>20</td>\n",
       "      <td>0.350000</td>\n",
       "    </tr>\n",
       "    <tr>\n",
       "      <th>Burundi</th>\n",
       "      <td>20</td>\n",
       "      <td>0.300000</td>\n",
       "    </tr>\n",
       "    <tr>\n",
       "      <th>Middle East  UNDOF</th>\n",
       "      <td>20</td>\n",
       "      <td>0.000000</td>\n",
       "    </tr>\n",
       "    <tr>\n",
       "      <th>Iraq</th>\n",
       "      <td>16</td>\n",
       "      <td>0.375000</td>\n",
       "    </tr>\n",
       "    <tr>\n",
       "      <th>Tajikistan</th>\n",
       "      <td>13</td>\n",
       "      <td>0.000000</td>\n",
       "    </tr>\n",
       "    <tr>\n",
       "      <th>Central African Republic</th>\n",
       "      <td>12</td>\n",
       "      <td>0.500000</td>\n",
       "    </tr>\n",
       "    <tr>\n",
       "      <th>The former Yugoslav Republic of Macedonia</th>\n",
       "      <td>10</td>\n",
       "      <td>0.000000</td>\n",
       "    </tr>\n",
       "    <tr>\n",
       "      <th>Middle East situation, including the Palestinian question</th>\n",
       "      <td>10</td>\n",
       "      <td>0.000000</td>\n",
       "    </tr>\n",
       "  </tbody>\n",
       "</table>\n",
       "</div>"
      ],
      "text/plain": [
       "                                                    count      mean\n",
       "topic                                                              \n",
       "Democratic Republic of the Congo                       62  0.790323\n",
       "Western Sahara                                         56  0.000000\n",
       "Liberia                                                51  0.705882\n",
       "Somalia                                                47  0.893617\n",
       "Cote d'Ivoire                                          47  0.936170\n",
       "Angola                                                 46  0.347826\n",
       "Iraq-Kuwait                                            44  0.931818\n",
       "Cyprus                                                 42  0.000000\n",
       "Sierra Leone                                           39  0.384615\n",
       "Afghanistan                                            39  0.487179\n",
       "Bosnia and Herzegovina                                 39  0.641026\n",
       "Georgia                                                36  0.000000\n",
       "Haiti                                                  35  0.571429\n",
       "Sudan                                                  34  0.558824\n",
       "Middle East situation                                  31  0.096774\n",
       "Eritrea-Ethiopia                                       28  0.071429\n",
       "International Tribunal  Yugoslavia                     28  0.500000\n",
       "International Tribunal  Rwanda                         27  0.481481\n",
       "Timor-Leste                                            25  0.120000\n",
       "Croatia                                                24  0.250000\n",
       "Middle East  UNIFIL                                    23  0.000000\n",
       "Peace and security  terrorist acts                     22  0.454545\n",
       "Rwanda                                                 20  0.350000\n",
       "Burundi                                                20  0.300000\n",
       "Middle East  UNDOF                                     20  0.000000\n",
       "Iraq                                                   16  0.375000\n",
       "Tajikistan                                             13  0.000000\n",
       "Central African Republic                               12  0.500000\n",
       "The former Yugoslav Republic of Macedonia              10  0.000000\n",
       "Middle East situation, including the Palestinia...     10  0.000000"
      ]
     },
     "execution_count": 115,
     "metadata": {},
     "output_type": "execute_result"
    }
   ],
   "source": [
    "group1.head(30) # display only top 30, \"frequent flyers\""
   ]
  },
  {
   "cell_type": "code",
   "execution_count": 116,
   "metadata": {
    "collapsed": false
   },
   "outputs": [],
   "source": [
    "group3 = group1.head(30) # assign top 30 to new dataframe"
   ]
  },
  {
   "cell_type": "code",
   "execution_count": 117,
   "metadata": {
    "collapsed": false
   },
   "outputs": [
    {
     "data": {
      "text/html": [
       "<div>\n",
       "<table border=\"1\" class=\"dataframe\">\n",
       "  <thead>\n",
       "    <tr style=\"text-align: right;\">\n",
       "      <th></th>\n",
       "      <th>count</th>\n",
       "      <th>mean</th>\n",
       "    </tr>\n",
       "    <tr>\n",
       "      <th>topic</th>\n",
       "      <th></th>\n",
       "      <th></th>\n",
       "    </tr>\n",
       "  </thead>\n",
       "  <tbody>\n",
       "    <tr>\n",
       "      <th>Cote d'Ivoire</th>\n",
       "      <td>47</td>\n",
       "      <td>0.936170</td>\n",
       "    </tr>\n",
       "    <tr>\n",
       "      <th>Iraq-Kuwait</th>\n",
       "      <td>44</td>\n",
       "      <td>0.931818</td>\n",
       "    </tr>\n",
       "    <tr>\n",
       "      <th>Somalia</th>\n",
       "      <td>47</td>\n",
       "      <td>0.893617</td>\n",
       "    </tr>\n",
       "    <tr>\n",
       "      <th>Democratic Republic of the Congo</th>\n",
       "      <td>62</td>\n",
       "      <td>0.790323</td>\n",
       "    </tr>\n",
       "    <tr>\n",
       "      <th>Liberia</th>\n",
       "      <td>51</td>\n",
       "      <td>0.705882</td>\n",
       "    </tr>\n",
       "    <tr>\n",
       "      <th>Bosnia and Herzegovina</th>\n",
       "      <td>39</td>\n",
       "      <td>0.641026</td>\n",
       "    </tr>\n",
       "    <tr>\n",
       "      <th>Haiti</th>\n",
       "      <td>35</td>\n",
       "      <td>0.571429</td>\n",
       "    </tr>\n",
       "    <tr>\n",
       "      <th>Sudan</th>\n",
       "      <td>34</td>\n",
       "      <td>0.558824</td>\n",
       "    </tr>\n",
       "    <tr>\n",
       "      <th>Central African Republic</th>\n",
       "      <td>12</td>\n",
       "      <td>0.500000</td>\n",
       "    </tr>\n",
       "    <tr>\n",
       "      <th>International Tribunal  Yugoslavia</th>\n",
       "      <td>28</td>\n",
       "      <td>0.500000</td>\n",
       "    </tr>\n",
       "    <tr>\n",
       "      <th>Afghanistan</th>\n",
       "      <td>39</td>\n",
       "      <td>0.487179</td>\n",
       "    </tr>\n",
       "    <tr>\n",
       "      <th>International Tribunal  Rwanda</th>\n",
       "      <td>27</td>\n",
       "      <td>0.481481</td>\n",
       "    </tr>\n",
       "    <tr>\n",
       "      <th>Peace and security  terrorist acts</th>\n",
       "      <td>22</td>\n",
       "      <td>0.454545</td>\n",
       "    </tr>\n",
       "    <tr>\n",
       "      <th>Sierra Leone</th>\n",
       "      <td>39</td>\n",
       "      <td>0.384615</td>\n",
       "    </tr>\n",
       "    <tr>\n",
       "      <th>Iraq</th>\n",
       "      <td>16</td>\n",
       "      <td>0.375000</td>\n",
       "    </tr>\n",
       "    <tr>\n",
       "      <th>Rwanda</th>\n",
       "      <td>20</td>\n",
       "      <td>0.350000</td>\n",
       "    </tr>\n",
       "    <tr>\n",
       "      <th>Angola</th>\n",
       "      <td>46</td>\n",
       "      <td>0.347826</td>\n",
       "    </tr>\n",
       "    <tr>\n",
       "      <th>Burundi</th>\n",
       "      <td>20</td>\n",
       "      <td>0.300000</td>\n",
       "    </tr>\n",
       "    <tr>\n",
       "      <th>Croatia</th>\n",
       "      <td>24</td>\n",
       "      <td>0.250000</td>\n",
       "    </tr>\n",
       "    <tr>\n",
       "      <th>Timor-Leste</th>\n",
       "      <td>25</td>\n",
       "      <td>0.120000</td>\n",
       "    </tr>\n",
       "    <tr>\n",
       "      <th>Middle East situation</th>\n",
       "      <td>31</td>\n",
       "      <td>0.096774</td>\n",
       "    </tr>\n",
       "    <tr>\n",
       "      <th>Eritrea-Ethiopia</th>\n",
       "      <td>28</td>\n",
       "      <td>0.071429</td>\n",
       "    </tr>\n",
       "    <tr>\n",
       "      <th>Middle East  UNIFIL</th>\n",
       "      <td>23</td>\n",
       "      <td>0.000000</td>\n",
       "    </tr>\n",
       "    <tr>\n",
       "      <th>Western Sahara</th>\n",
       "      <td>56</td>\n",
       "      <td>0.000000</td>\n",
       "    </tr>\n",
       "    <tr>\n",
       "      <th>Middle East  UNDOF</th>\n",
       "      <td>20</td>\n",
       "      <td>0.000000</td>\n",
       "    </tr>\n",
       "    <tr>\n",
       "      <th>Georgia</th>\n",
       "      <td>36</td>\n",
       "      <td>0.000000</td>\n",
       "    </tr>\n",
       "    <tr>\n",
       "      <th>Tajikistan</th>\n",
       "      <td>13</td>\n",
       "      <td>0.000000</td>\n",
       "    </tr>\n",
       "    <tr>\n",
       "      <th>Cyprus</th>\n",
       "      <td>42</td>\n",
       "      <td>0.000000</td>\n",
       "    </tr>\n",
       "    <tr>\n",
       "      <th>The former Yugoslav Republic of Macedonia</th>\n",
       "      <td>10</td>\n",
       "      <td>0.000000</td>\n",
       "    </tr>\n",
       "    <tr>\n",
       "      <th>Middle East situation, including the Palestinian question</th>\n",
       "      <td>10</td>\n",
       "      <td>0.000000</td>\n",
       "    </tr>\n",
       "  </tbody>\n",
       "</table>\n",
       "</div>"
      ],
      "text/plain": [
       "                                                    count      mean\n",
       "topic                                                              \n",
       "Cote d'Ivoire                                          47  0.936170\n",
       "Iraq-Kuwait                                            44  0.931818\n",
       "Somalia                                                47  0.893617\n",
       "Democratic Republic of the Congo                       62  0.790323\n",
       "Liberia                                                51  0.705882\n",
       "Bosnia and Herzegovina                                 39  0.641026\n",
       "Haiti                                                  35  0.571429\n",
       "Sudan                                                  34  0.558824\n",
       "Central African Republic                               12  0.500000\n",
       "International Tribunal  Yugoslavia                     28  0.500000\n",
       "Afghanistan                                            39  0.487179\n",
       "International Tribunal  Rwanda                         27  0.481481\n",
       "Peace and security  terrorist acts                     22  0.454545\n",
       "Sierra Leone                                           39  0.384615\n",
       "Iraq                                                   16  0.375000\n",
       "Rwanda                                                 20  0.350000\n",
       "Angola                                                 46  0.347826\n",
       "Burundi                                                20  0.300000\n",
       "Croatia                                                24  0.250000\n",
       "Timor-Leste                                            25  0.120000\n",
       "Middle East situation                                  31  0.096774\n",
       "Eritrea-Ethiopia                                       28  0.071429\n",
       "Middle East  UNIFIL                                    23  0.000000\n",
       "Western Sahara                                         56  0.000000\n",
       "Middle East  UNDOF                                     20  0.000000\n",
       "Georgia                                                36  0.000000\n",
       "Tajikistan                                             13  0.000000\n",
       "Cyprus                                                 42  0.000000\n",
       "The former Yugoslav Republic of Macedonia              10  0.000000\n",
       "Middle East situation, including the Palestinia...     10  0.000000"
      ]
     },
     "execution_count": 117,
     "metadata": {},
     "output_type": "execute_result"
    }
   ],
   "source": [
    "group3.sort('mean', ascending = False) # sort new top-30 \"frequent flyers\" dataframe by mean"
   ]
  },
  {
   "cell_type": "markdown",
   "metadata": {},
   "source": [
    "### Resolutions by topic, sorted by intervention/soft action ratio"
   ]
  },
  {
   "cell_type": "code",
   "execution_count": 118,
   "metadata": {
    "collapsed": false
   },
   "outputs": [],
   "source": [
    "group2 = full_data.groupby('topic').category.agg(['count', 'mean']).sort('mean', ascending = False)"
   ]
  },
  {
   "cell_type": "code",
   "execution_count": 119,
   "metadata": {
    "collapsed": false
   },
   "outputs": [
    {
     "data": {
      "text/html": [
       "<div>\n",
       "<table border=\"1\" class=\"dataframe\">\n",
       "  <thead>\n",
       "    <tr style=\"text-align: right;\">\n",
       "      <th></th>\n",
       "      <th>count</th>\n",
       "      <th>mean</th>\n",
       "    </tr>\n",
       "    <tr>\n",
       "      <th>topic</th>\n",
       "      <th></th>\n",
       "      <th></th>\n",
       "    </tr>\n",
       "  </thead>\n",
       "  <tbody>\n",
       "    <tr>\n",
       "      <th>Security Council mission  Democratic Republic of the Congo</th>\n",
       "      <td>1</td>\n",
       "      <td>1.000000</td>\n",
       "    </tr>\n",
       "    <tr>\n",
       "      <th>The situation between Iraq and Kuwait</th>\n",
       "      <td>1</td>\n",
       "      <td>1.000000</td>\n",
       "    </tr>\n",
       "    <tr>\n",
       "      <th>Federal Republic of Yugoslavia  termination of sanctions</th>\n",
       "      <td>1</td>\n",
       "      <td>1.000000</td>\n",
       "    </tr>\n",
       "    <tr>\n",
       "      <th>Mali</th>\n",
       "      <td>1</td>\n",
       "      <td>1.000000</td>\n",
       "    </tr>\n",
       "    <tr>\n",
       "      <th>Report of the Secretary-General on the situation in Abyei</th>\n",
       "      <td>2</td>\n",
       "      <td>1.000000</td>\n",
       "    </tr>\n",
       "    <tr>\n",
       "      <th>Report of the Secretary-General on the Sudan and South Sudan</th>\n",
       "      <td>3</td>\n",
       "      <td>1.000000</td>\n",
       "    </tr>\n",
       "    <tr>\n",
       "      <th>Report of the Secretary-General in Sudan - South Sudan</th>\n",
       "      <td>1</td>\n",
       "      <td>1.000000</td>\n",
       "    </tr>\n",
       "    <tr>\n",
       "      <th>Peace and security in Africa  Libya</th>\n",
       "      <td>1</td>\n",
       "      <td>1.000000</td>\n",
       "    </tr>\n",
       "    <tr>\n",
       "      <th>Peace and security in Africa</th>\n",
       "      <td>1</td>\n",
       "      <td>1.000000</td>\n",
       "    </tr>\n",
       "    <tr>\n",
       "      <th>International Tribunal - Rwanda</th>\n",
       "      <td>1</td>\n",
       "      <td>1.000000</td>\n",
       "    </tr>\n",
       "    <tr>\n",
       "      <th>International Tribunal - Rwanda</th>\n",
       "      <td>1</td>\n",
       "      <td>1.000000</td>\n",
       "    </tr>\n",
       "    <tr>\n",
       "      <th>International Tribunal - Rwanda - Yugoslavia</th>\n",
       "      <td>1</td>\n",
       "      <td>1.000000</td>\n",
       "    </tr>\n",
       "    <tr>\n",
       "      <th>International Tribunal - Yugoslavia</th>\n",
       "      <td>3</td>\n",
       "      <td>1.000000</td>\n",
       "    </tr>\n",
       "    <tr>\n",
       "      <th>Iraq-Kuwait termination of trade and financial sanctions</th>\n",
       "      <td>1</td>\n",
       "      <td>1.000000</td>\n",
       "    </tr>\n",
       "    <tr>\n",
       "      <th>Non-proliferation of weapons of mass destruction</th>\n",
       "      <td>4</td>\n",
       "      <td>1.000000</td>\n",
       "    </tr>\n",
       "    <tr>\n",
       "      <th>Non-proliferation / Democratic People's Republic of Korea</th>\n",
       "      <td>1</td>\n",
       "      <td>1.000000</td>\n",
       "    </tr>\n",
       "    <tr>\n",
       "      <th>Libyan Arab Jamahiriya</th>\n",
       "      <td>2</td>\n",
       "      <td>1.000000</td>\n",
       "    </tr>\n",
       "    <tr>\n",
       "      <th>Special report of the Secretary-General on Somalia</th>\n",
       "      <td>1</td>\n",
       "      <td>1.000000</td>\n",
       "    </tr>\n",
       "    <tr>\n",
       "      <th>Navigation on the Danube River</th>\n",
       "      <td>1</td>\n",
       "      <td>1.000000</td>\n",
       "    </tr>\n",
       "    <tr>\n",
       "      <th>The situation in Bosnia and Herzegovina</th>\n",
       "      <td>2</td>\n",
       "      <td>1.000000</td>\n",
       "    </tr>\n",
       "    <tr>\n",
       "      <th>The situation in Liberia</th>\n",
       "      <td>6</td>\n",
       "      <td>1.000000</td>\n",
       "    </tr>\n",
       "    <tr>\n",
       "      <th>United Nations peacekeeping</th>\n",
       "      <td>2</td>\n",
       "      <td>1.000000</td>\n",
       "    </tr>\n",
       "    <tr>\n",
       "      <th>The situation in Middle East</th>\n",
       "      <td>1</td>\n",
       "      <td>1.000000</td>\n",
       "    </tr>\n",
       "    <tr>\n",
       "      <th>The situation in Libya</th>\n",
       "      <td>3</td>\n",
       "      <td>1.000000</td>\n",
       "    </tr>\n",
       "    <tr>\n",
       "      <th>The situation in Mali</th>\n",
       "      <td>2</td>\n",
       "      <td>1.000000</td>\n",
       "    </tr>\n",
       "    <tr>\n",
       "      <th>The situation in Cote d'Ivoire</th>\n",
       "      <td>6</td>\n",
       "      <td>1.000000</td>\n",
       "    </tr>\n",
       "    <tr>\n",
       "      <th>Yugoslavia</th>\n",
       "      <td>1</td>\n",
       "      <td>1.000000</td>\n",
       "    </tr>\n",
       "    <tr>\n",
       "      <th>Cote d'Ivoire</th>\n",
       "      <td>47</td>\n",
       "      <td>0.936170</td>\n",
       "    </tr>\n",
       "    <tr>\n",
       "      <th>Iraq-Kuwait</th>\n",
       "      <td>44</td>\n",
       "      <td>0.931818</td>\n",
       "    </tr>\n",
       "    <tr>\n",
       "      <th>Somalia</th>\n",
       "      <td>47</td>\n",
       "      <td>0.893617</td>\n",
       "    </tr>\n",
       "  </tbody>\n",
       "</table>\n",
       "</div>"
      ],
      "text/plain": [
       "                                                    count      mean\n",
       "topic                                                              \n",
       "Security Council mission  Democratic Republic o...      1  1.000000\n",
       "The situation between Iraq and Kuwait                   1  1.000000\n",
       "Federal Republic of Yugoslavia  termination of ...      1  1.000000\n",
       "Mali                                                    1  1.000000\n",
       "Report of the Secretary-General on the situatio...      2  1.000000\n",
       "Report of the Secretary-General on the Sudan an...      3  1.000000\n",
       "Report of the Secretary-General in Sudan - Sout...      1  1.000000\n",
       "Peace and security in Africa  Libya                     1  1.000000\n",
       "Peace and security in Africa                            1  1.000000\n",
       "International Tribunal - Rwanda                         1  1.000000\n",
       "International Tribunal - Rwanda                         1  1.000000\n",
       "International Tribunal - Rwanda - Yugoslavia            1  1.000000\n",
       "International Tribunal - Yugoslavia                     3  1.000000\n",
       "Iraq-Kuwait termination of trade and financial ...      1  1.000000\n",
       "Non-proliferation of weapons of mass destruction        4  1.000000\n",
       "Non-proliferation / Democratic People's Republi...      1  1.000000\n",
       "Libyan Arab Jamahiriya                                  2  1.000000\n",
       "Special report of the Secretary-General on Somalia      1  1.000000\n",
       "Navigation on the Danube River                          1  1.000000\n",
       "The situation in Bosnia and Herzegovina                 2  1.000000\n",
       "The situation in Liberia                                6  1.000000\n",
       "United Nations peacekeeping                             2  1.000000\n",
       "The situation in Middle East                            1  1.000000\n",
       "The situation in Libya                                  3  1.000000\n",
       "The situation in Mali                                   2  1.000000\n",
       "The situation in Cote d'Ivoire                          6  1.000000\n",
       "Yugoslavia                                              1  1.000000\n",
       "Cote d'Ivoire                                          47  0.936170\n",
       "Iraq-Kuwait                                            44  0.931818\n",
       "Somalia                                                47  0.893617"
      ]
     },
     "execution_count": 119,
     "metadata": {},
     "output_type": "execute_result"
    }
   ],
   "source": [
    "group2.head(30) # display only top 30"
   ]
  },
  {
   "cell_type": "markdown",
   "metadata": {},
   "source": [
    "### Crosstabs:"
   ]
  },
  {
   "cell_type": "code",
   "execution_count": 120,
   "metadata": {
    "collapsed": false
   },
   "outputs": [
    {
     "data": {
      "text/html": [
       "<div>\n",
       "<table border=\"1\" class=\"dataframe\">\n",
       "  <thead>\n",
       "    <tr style=\"text-align: right;\">\n",
       "      <th>category</th>\n",
       "      <th>0</th>\n",
       "      <th>1</th>\n",
       "    </tr>\n",
       "    <tr>\n",
       "      <th>region</th>\n",
       "      <th></th>\n",
       "      <th></th>\n",
       "    </tr>\n",
       "  </thead>\n",
       "  <tbody>\n",
       "    <tr>\n",
       "      <th>Central / NE Asia</th>\n",
       "      <td>49</td>\n",
       "      <td>22</td>\n",
       "    </tr>\n",
       "    <tr>\n",
       "      <th>Central America / Caribbean</th>\n",
       "      <td>20</td>\n",
       "      <td>20</td>\n",
       "    </tr>\n",
       "    <tr>\n",
       "      <th>Europe / Balkans</th>\n",
       "      <td>144</td>\n",
       "      <td>67</td>\n",
       "    </tr>\n",
       "    <tr>\n",
       "      <th>Middle East / North Africa</th>\n",
       "      <td>183</td>\n",
       "      <td>63</td>\n",
       "    </tr>\n",
       "    <tr>\n",
       "      <th>Southeast Asia</th>\n",
       "      <td>23</td>\n",
       "      <td>3</td>\n",
       "    </tr>\n",
       "    <tr>\n",
       "      <th>Sub-Saharan Africa</th>\n",
       "      <td>231</td>\n",
       "      <td>305</td>\n",
       "    </tr>\n",
       "    <tr>\n",
       "      <th>general</th>\n",
       "      <td>80</td>\n",
       "      <td>26</td>\n",
       "    </tr>\n",
       "  </tbody>\n",
       "</table>\n",
       "</div>"
      ],
      "text/plain": [
       "category                       0    1\n",
       "region                               \n",
       "Central / NE Asia             49   22\n",
       "Central America / Caribbean   20   20\n",
       "Europe / Balkans             144   67\n",
       "Middle East / North Africa   183   63\n",
       "Southeast Asia                23    3\n",
       "Sub-Saharan Africa           231  305\n",
       "general                       80   26"
      ]
     },
     "execution_count": 120,
     "metadata": {},
     "output_type": "execute_result"
    }
   ],
   "source": [
    "pd.crosstab(full_data.region, full_data.category)"
   ]
  },
  {
   "cell_type": "code",
   "execution_count": 121,
   "metadata": {
    "collapsed": false
   },
   "outputs": [
    {
     "data": {
      "text/html": [
       "<div>\n",
       "<table border=\"1\" class=\"dataframe\">\n",
       "  <thead>\n",
       "    <tr style=\"text-align: right;\">\n",
       "      <th></th>\n",
       "      <th>record</th>\n",
       "      <th>day</th>\n",
       "      <th>press_release</th>\n",
       "      <th>topic</th>\n",
       "      <th>year</th>\n",
       "      <th>category</th>\n",
       "      <th>outcome</th>\n",
       "      <th>region</th>\n",
       "      <th>record_number</th>\n",
       "      <th>meeting_text</th>\n",
       "    </tr>\n",
       "  </thead>\n",
       "  <tbody>\n",
       "    <tr>\n",
       "      <th>0</th>\n",
       "      <td>S/PV.3326</td>\n",
       "      <td>6-Jan</td>\n",
       "      <td>SC/5770</td>\n",
       "      <td>Rwanda</td>\n",
       "      <td>1994</td>\n",
       "      <td>0</td>\n",
       "      <td>S/RES/893 (1994)</td>\n",
       "      <td>Sub-Saharan Africa</td>\n",
       "      <td>3326</td>\n",
       "      <td>ÔªøUNITED\\r\\nNATIONS\\r\\nS\\r\\nSecurity Council\\...</td>\n",
       "    </tr>\n",
       "    <tr>\n",
       "      <th>1</th>\n",
       "      <td>S/PV.3329</td>\n",
       "      <td>14-Jan</td>\n",
       "      <td>SC/5775</td>\n",
       "      <td>South Africa</td>\n",
       "      <td>1994</td>\n",
       "      <td>0</td>\n",
       "      <td>S/RES/894 (1994)</td>\n",
       "      <td>Sub-Saharan Africa</td>\n",
       "      <td>3329</td>\n",
       "      <td>ÔªøUNITED\\r\\nNATIONS\\r\\nS\\r\\nSecurity Council\\...</td>\n",
       "    </tr>\n",
       "    <tr>\n",
       "      <th>2</th>\n",
       "      <td>S/PV.3331</td>\n",
       "      <td>28-Jan</td>\n",
       "      <td>SC/5779</td>\n",
       "      <td>Middle East  UNIFIL</td>\n",
       "      <td>1994</td>\n",
       "      <td>0</td>\n",
       "      <td>S/RES/895 (1994)</td>\n",
       "      <td>Middle East / North Africa</td>\n",
       "      <td>3331</td>\n",
       "      <td>UNITED\\nSNATIONS\\nSecurity Council\\nPROVISIONA...</td>\n",
       "    </tr>\n",
       "    <tr>\n",
       "      <th>3</th>\n",
       "      <td>S/PV.3332</td>\n",
       "      <td>31-Jan</td>\n",
       "      <td>SC/5780</td>\n",
       "      <td>Georgia</td>\n",
       "      <td>1994</td>\n",
       "      <td>0</td>\n",
       "      <td>S/RES/896 (1994)</td>\n",
       "      <td>Europe / Balkans</td>\n",
       "      <td>3332</td>\n",
       "      <td>UNITED\\nSNATIONS\\nSecurity Council\\nPROVISIONA...</td>\n",
       "    </tr>\n",
       "    <tr>\n",
       "      <th>4</th>\n",
       "      <td>S/PV.3334</td>\n",
       "      <td>4-Feb</td>\n",
       "      <td>SC/5782</td>\n",
       "      <td>Somalia</td>\n",
       "      <td>1994</td>\n",
       "      <td>1</td>\n",
       "      <td>S/RES/897 (1994)</td>\n",
       "      <td>Sub-Saharan Africa</td>\n",
       "      <td>3334</td>\n",
       "      <td>UNITEDUNITED\\nSNATIONSNATIONS\\nSecurity Counci...</td>\n",
       "    </tr>\n",
       "  </tbody>\n",
       "</table>\n",
       "</div>"
      ],
      "text/plain": [
       "      record     day press_release                topic  year  category  \\\n",
       "0  S/PV.3326   6-Jan       SC/5770               Rwanda  1994         0   \n",
       "1  S/PV.3329  14-Jan       SC/5775         South Africa  1994         0   \n",
       "2  S/PV.3331  28-Jan       SC/5779  Middle East  UNIFIL  1994         0   \n",
       "3  S/PV.3332  31-Jan       SC/5780              Georgia  1994         0   \n",
       "4  S/PV.3334   4-Feb       SC/5782              Somalia  1994         1   \n",
       "\n",
       "            outcome                      region record_number  \\\n",
       "0  S/RES/893 (1994)          Sub-Saharan Africa          3326   \n",
       "1  S/RES/894 (1994)          Sub-Saharan Africa          3329   \n",
       "2  S/RES/895 (1994)  Middle East / North Africa          3331   \n",
       "3  S/RES/896 (1994)            Europe / Balkans          3332   \n",
       "4  S/RES/897 (1994)          Sub-Saharan Africa          3334   \n",
       "\n",
       "                                        meeting_text  \n",
       "0  ÔªøUNITED\\r\\nNATIONS\\r\\nS\\r\\nSecurity Council\\...  \n",
       "1  ÔªøUNITED\\r\\nNATIONS\\r\\nS\\r\\nSecurity Council\\...  \n",
       "2  UNITED\\nSNATIONS\\nSecurity Council\\nPROVISIONA...  \n",
       "3  UNITED\\nSNATIONS\\nSecurity Council\\nPROVISIONA...  \n",
       "4  UNITEDUNITED\\nSNATIONSNATIONS\\nSecurity Counci...  "
      ]
     },
     "execution_count": 121,
     "metadata": {},
     "output_type": "execute_result"
    }
   ],
   "source": [
    "full_data.head() # take a look at the original dataframe to see what we need to drop for ease of further exploration"
   ]
  },
  {
   "cell_type": "markdown",
   "metadata": {},
   "source": [
    "### Drop all text columns"
   ]
  },
  {
   "cell_type": "code",
   "execution_count": 122,
   "metadata": {
    "collapsed": false
   },
   "outputs": [],
   "source": [
    "full_data.drop(['record', 'day', 'press_release', 'topic', 'outcome', 'record_number', 'meeting_text'], axis=1, inplace = True)   "
   ]
  },
  {
   "cell_type": "markdown",
   "metadata": {},
   "source": [
    "### More visualizations"
   ]
  },
  {
   "cell_type": "code",
   "execution_count": 123,
   "metadata": {
    "collapsed": false
   },
   "outputs": [
    {
     "data": {
      "text/plain": [
       "<seaborn.axisgrid.FacetGrid at 0x11a115510>"
      ]
     },
     "execution_count": 123,
     "metadata": {},
     "output_type": "execute_result"
    },
    {
     "data": {
      "image/png": "[encoded data removed]",
      "text/plain": [
       "<matplotlib.figure.Figure at 0x11a1a8dd0>"
      ]
     },
     "metadata": {},
     "output_type": "display_data"
    }
   ],
   "source": [
    "%matplotlib inline\n",
    "import seaborn as sns\n",
    "d = sns.factorplot(\"region\", data=full_data, palette=\"BuPu\", size=10) # resolution counts by region\n",
    "d.set_xticklabels(rotation=30) # make x-axis tick labels readable"
   ]
  },
  {
   "cell_type": "code",
   "execution_count": 124,
   "metadata": {
    "collapsed": false
   },
   "outputs": [
    {
     "data": {
      "text/plain": [
       "<seaborn.axisgrid.FacetGrid at 0x11d63d590>"
      ]
     },
     "execution_count": 124,
     "metadata": {},
     "output_type": "execute_result"
    },
    {
     "data": {
      "image/png": "[encoded data removed]",
      "text/plain": [
       "<matplotlib.figure.Figure at 0x121c2a8d0>"
      ]
     },
     "metadata": {},
     "output_type": "display_data"
    }
   ],
   "source": [
    "%matplotlib inline\n",
    "import seaborn as sns\n",
    "sns.factorplot(\"category\", hue=\"region\", data=full_data, palette=\"Paired\", size=10) # group by category\n"
   ]
  },
  {
   "cell_type": "markdown",
   "metadata": {},
   "source": [
    "### Time series plotting with matplotlib"
   ]
  },
  {
   "cell_type": "markdown",
   "metadata": {},
   "source": [
    "First, explore the data:"
   ]
  },
  {
   "cell_type": "code",
   "execution_count": 126,
   "metadata": {
    "collapsed": false
   },
   "outputs": [
    {
     "data": {
      "text/html": [
       "<div>\n",
       "<table border=\"1\" class=\"dataframe\">\n",
       "  <thead>\n",
       "    <tr style=\"text-align: right;\">\n",
       "      <th></th>\n",
       "      <th>category</th>\n",
       "    </tr>\n",
       "    <tr>\n",
       "      <th>year</th>\n",
       "      <th></th>\n",
       "    </tr>\n",
       "  </thead>\n",
       "  <tbody>\n",
       "    <tr>\n",
       "      <th>1994</th>\n",
       "      <td>0.301370</td>\n",
       "    </tr>\n",
       "    <tr>\n",
       "      <th>1995</th>\n",
       "      <td>0.316667</td>\n",
       "    </tr>\n",
       "    <tr>\n",
       "      <th>1996</th>\n",
       "      <td>0.150943</td>\n",
       "    </tr>\n",
       "    <tr>\n",
       "      <th>1997</th>\n",
       "      <td>0.230769</td>\n",
       "    </tr>\n",
       "    <tr>\n",
       "      <th>1998</th>\n",
       "      <td>0.314286</td>\n",
       "    </tr>\n",
       "    <tr>\n",
       "      <th>1999</th>\n",
       "      <td>0.233333</td>\n",
       "    </tr>\n",
       "    <tr>\n",
       "      <th>2000</th>\n",
       "      <td>0.312500</td>\n",
       "    </tr>\n",
       "    <tr>\n",
       "      <th>2001</th>\n",
       "      <td>0.360000</td>\n",
       "    </tr>\n",
       "    <tr>\n",
       "      <th>2002</th>\n",
       "      <td>0.454545</td>\n",
       "    </tr>\n",
       "    <tr>\n",
       "      <th>2003</th>\n",
       "      <td>0.348485</td>\n",
       "    </tr>\n",
       "    <tr>\n",
       "      <th>2004</th>\n",
       "      <td>0.465517</td>\n",
       "    </tr>\n",
       "    <tr>\n",
       "      <th>2005</th>\n",
       "      <td>0.550725</td>\n",
       "    </tr>\n",
       "    <tr>\n",
       "      <th>2006</th>\n",
       "      <td>0.464286</td>\n",
       "    </tr>\n",
       "    <tr>\n",
       "      <th>2007</th>\n",
       "      <td>0.553571</td>\n",
       "    </tr>\n",
       "    <tr>\n",
       "      <th>2008</th>\n",
       "      <td>0.523077</td>\n",
       "    </tr>\n",
       "    <tr>\n",
       "      <th>2009</th>\n",
       "      <td>0.479167</td>\n",
       "    </tr>\n",
       "    <tr>\n",
       "      <th>2010</th>\n",
       "      <td>0.500000</td>\n",
       "    </tr>\n",
       "    <tr>\n",
       "      <th>2011</th>\n",
       "      <td>0.523810</td>\n",
       "    </tr>\n",
       "    <tr>\n",
       "      <th>2012</th>\n",
       "      <td>0.529412</td>\n",
       "    </tr>\n",
       "    <tr>\n",
       "      <th>2013</th>\n",
       "      <td>0.510638</td>\n",
       "    </tr>\n",
       "    <tr>\n",
       "      <th>2014</th>\n",
       "      <td>0.465116</td>\n",
       "    </tr>\n",
       "  </tbody>\n",
       "</table>\n",
       "</div>"
      ],
      "text/plain": [
       "      category\n",
       "year          \n",
       "1994  0.301370\n",
       "1995  0.316667\n",
       "1996  0.150943\n",
       "1997  0.230769\n",
       "1998  0.314286\n",
       "1999  0.233333\n",
       "2000  0.312500\n",
       "2001  0.360000\n",
       "2002  0.454545\n",
       "2003  0.348485\n",
       "2004  0.465517\n",
       "2005  0.550725\n",
       "2006  0.464286\n",
       "2007  0.553571\n",
       "2008  0.523077\n",
       "2009  0.479167\n",
       "2010  0.500000\n",
       "2011  0.523810\n",
       "2012  0.529412\n",
       "2013  0.510638\n",
       "2014  0.465116"
      ]
     },
     "execution_count": 126,
     "metadata": {},
     "output_type": "execute_result"
    }
   ],
   "source": [
    "full_data.groupby('year').mean()"
   ]
  },
  {
   "cell_type": "code",
   "execution_count": 160,
   "metadata": {
    "collapsed": false
   },
   "outputs": [],
   "source": [
    "ts_group = full_data.groupby('year').mean() # assign to new dataframe object"
   ]
  },
  {
   "cell_type": "code",
   "execution_count": 161,
   "metadata": {
    "collapsed": false
   },
   "outputs": [
    {
     "data": {
      "text/html": [
       "<div>\n",
       "<table border=\"1\" class=\"dataframe\">\n",
       "  <thead>\n",
       "    <tr style=\"text-align: right;\">\n",
       "      <th></th>\n",
       "      <th>category</th>\n",
       "    </tr>\n",
       "    <tr>\n",
       "      <th>year</th>\n",
       "      <th></th>\n",
       "    </tr>\n",
       "  </thead>\n",
       "  <tbody>\n",
       "    <tr>\n",
       "      <th>1994</th>\n",
       "      <td>0.301370</td>\n",
       "    </tr>\n",
       "    <tr>\n",
       "      <th>1995</th>\n",
       "      <td>0.316667</td>\n",
       "    </tr>\n",
       "    <tr>\n",
       "      <th>1996</th>\n",
       "      <td>0.150943</td>\n",
       "    </tr>\n",
       "    <tr>\n",
       "      <th>1997</th>\n",
       "      <td>0.230769</td>\n",
       "    </tr>\n",
       "    <tr>\n",
       "      <th>1998</th>\n",
       "      <td>0.314286</td>\n",
       "    </tr>\n",
       "  </tbody>\n",
       "</table>\n",
       "</div>"
      ],
      "text/plain": [
       "      category\n",
       "year          \n",
       "1994  0.301370\n",
       "1995  0.316667\n",
       "1996  0.150943\n",
       "1997  0.230769\n",
       "1998  0.314286"
      ]
     },
     "execution_count": 161,
     "metadata": {},
     "output_type": "execute_result"
    }
   ],
   "source": [
    "ts_group.head() # check that it worked"
   ]
  },
  {
   "cell_type": "code",
   "execution_count": 162,
   "metadata": {
    "collapsed": false,
    "scrolled": false
   },
   "outputs": [
    {
     "data": {
      "image/png": "[encoded data removed]",
      "text/plain": [
       "<matplotlib.figure.Figure at 0x1258574d0>"
      ]
     },
     "metadata": {},
     "output_type": "display_data"
    }
   ],
   "source": [
    "%matplotlib inline\n",
    "import matplotlib.pyplot as plt\n",
    "plt.style.use('ggplot') # make it slightly prettier\n",
    "ts_group.plot(figsize=(12,6), title = \"Intervention / Soft Action Mean by Year\") # make figsize bigger, set title\n",
    "plt.locator_params(nbins=20) # show every year\n",
    "# use this later: plt.savefig('temp.png')"
   ]
  },
  {
   "cell_type": "code",
   "execution_count": null,
   "metadata": {
    "collapsed": true
   },
   "outputs": [],
   "source": []
  }
 ],
 "metadata": {
  "kernelspec": {
   "display_name": "Python 2",
   "language": "python",
   "name": "python2"
  },
  "language_info": {
   "codemirror_mode": {
    "name": "ipython",
    "version": 2
   },
   "file_extension": ".py",
   "mimetype": "text/x-python",
   "name": "python",
   "nbconvert_exporter": "python",
   "pygments_lexer": "ipython2",
   "version": "2.7.10"
  }
 },
 "nbformat": 4,
 "nbformat_minor": 0
}
