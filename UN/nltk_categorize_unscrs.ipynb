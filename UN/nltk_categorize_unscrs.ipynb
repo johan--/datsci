{
 "cells": [
  {
   "cell_type": "markdown",
   "metadata": {},
   "source": [
    "## Training a Naive Bayes classifier on output text data using NLTK"
   ]
  },
  {
   "cell_type": "markdown",
   "metadata": {},
   "source": [
    "The code below uses NLTK to train a Naive Bayes classifier on the corpus of UN Security Council resolutions (outputs). The records were previously divided into two folders based on the category of the corresponding outcome: soft action (category 0) or intervention (category 1)."
   ]
  },
  {
   "cell_type": "code",
   "execution_count": 1,
   "metadata": {
    "collapsed": true
   },
   "outputs": [],
   "source": [
    "import string\n",
    "from itertools import chain\n",
    "\n",
    "from nltk.corpus import stopwords\n",
    "from nltk.probability import FreqDist\n",
    "from nltk.classify import NaiveBayesClassifier as nbc\n",
    "from nltk.corpus import CategorizedPlaintextCorpusReader\n",
    "import nltk"
   ]
  },
  {
   "cell_type": "code",
   "execution_count": 2,
   "metadata": {
    "collapsed": true
   },
   "outputs": [],
   "source": [
    "# working dir: UN/\n",
    "mydir = 'corpus/unscrs_renamed_categorized'\n",
    "\n",
    "mr = CategorizedPlaintextCorpusReader(mydir, r'(?!\\.).*\\.txt', cat_pattern=r'(intervention|soft_action)/.*', encoding='utf-8')\n",
    "stop = stopwords.words('english')\n",
    "documents = [([w for w in mr.words(i) if w.lower() not in stop and w.lower() not in string.punctuation], i.split('/')[0]) for i in mr.fileids()]\n",
    "\n",
    "word_features = FreqDist(chain(*[i for i,j in documents]))\n",
    "word_features = word_features.keys()[:100]\n",
    "\n",
    "numtrain = int(len(documents) * 90 / 100)\n",
    "train_set = [({i:(i in tokens) for i in word_features}, tag) for tokens,tag in documents[:numtrain]]\n",
    "test_set = [({i:(i in tokens) for i in word_features}, tag) for tokens,tag  in documents[numtrain:]]\n",
    "\n",
    "classifier = nbc.train(train_set)"
   ]
  },
  {
   "cell_type": "code",
   "execution_count": 3,
   "metadata": {
    "collapsed": false
   },
   "outputs": [
    {
     "name": "stdout",
     "output_type": "stream",
     "text": [
      "0.580152671756\n"
     ]
    }
   ],
   "source": [
    "print nltk.classify.accuracy(classifier, test_set) # 58% - not great "
   ]
  },
  {
   "cell_type": "code",
   "execution_count": 4,
   "metadata": {
    "collapsed": false
   },
   "outputs": [
    {
     "name": "stdout",
     "output_type": "stream",
     "text": [
      "Most Informative Features\n",
      "                  Ivoire = True           interv : soft_a =     18.8 : 1.0\n",
      "              sustaining = True           interv : soft_a =     13.1 : 1.0\n",
      "              immunities = True           interv : soft_a =     10.1 : 1.0\n",
      "                eligible = True           interv : soft_a =      6.6 : 1.0\n",
      "                arbitral = True           interv : soft_a =      5.2 : 1.0\n",
      "             electricity = True           interv : soft_a =      4.5 : 1.0\n",
      "         intensification = True           soft_a : interv =      4.4 : 1.0\n",
      "                postpone = True           interv : soft_a =      3.7 : 1.0\n",
      "                granting = True           interv : soft_a =      3.1 : 1.0\n",
      "               designing = True           soft_a : interv =      2.4 : 1.0\n",
      "                regional = True           interv : soft_a =      2.1 : 1.0\n",
      "                     968 = True           soft_a : interv =      2.1 : 1.0\n",
      "                 Western = True           soft_a : interv =      2.1 : 1.0\n",
      "                sécurité = True           interv : soft_a =      2.1 : 1.0\n",
      "                     279 = True           interv : soft_a =      2.1 : 1.0\n",
      "                   UNODC = True           interv : soft_a =      1.7 : 1.0\n",
      "                   aegis = True           soft_a : interv =      1.7 : 1.0\n",
      "                regional = False          soft_a : interv =      1.4 : 1.0\n",
      "                  second = True           interv : soft_a =      1.4 : 1.0\n",
      "                    four = True           interv : soft_a =      1.4 : 1.0\n"
     ]
    }
   ],
   "source": [
    "classifier.show_most_informative_features(20)"
   ]
  }
 ],
 "metadata": {
  "kernelspec": {
   "display_name": "Python 2",
   "language": "python",
   "name": "python2"
  },
  "language_info": {
   "codemirror_mode": {
    "name": "ipython",
    "version": 2
   },
   "file_extension": ".py",
   "mimetype": "text/x-python",
   "name": "python",
   "nbconvert_exporter": "python",
   "pygments_lexer": "ipython2",
   "version": "2.7.10"
  }
 },
 "nbformat": 4,
 "nbformat_minor": 0
}
