{
 "cells": [
  {
   "cell_type": "markdown",
   "metadata": {},
   "source": [
    "# UN Security Council data exploration with NLTK"
   ]
  },
  {
   "cell_type": "markdown",
   "metadata": {},
   "source": [
    "## What frequency distributions can tell us about policy, decisionmaking and political will"
   ]
  },
  {
   "cell_type": "markdown",
   "metadata": {},
   "source": [
    "I've always been interested in examining the patterns of policy speeches to shed light on decisionmaking processes, and my corpora of UN Security Council meeting records and resolutions provide excellent data exploration material in this regard. Below I'll demonstrate how a syntax error in my code helped illustrate one of the most frustrating trends in international policy - the lack of political will to \"call a spade a spade\". "
   ]
  },
  {
   "cell_type": "markdown",
   "metadata": {},
   "source": [
    "**Background: the problem with \"genocide\"**"
   ]
  },
  {
   "cell_type": "markdown",
   "metadata": {},
   "source": [
    "**Act I. Rwanda.**"
   ]
  },
  {
   "cell_type": "markdown",
   "metadata": {},
   "source": [
    "In the spring of 1994, nearly a million Rwandans, most of them ethnic Tutsis, were slaughtered in the span of several months during a civil war that became known as one of the most brutal conflicts in human history. Throughout this time and for many months thereafter, the United Nations, the Clinton Administration, and countless other prominent decisionmaking bodies refused to use the term \"genocide\" to refer to the reality on the ground in Rwanda. Though everyone understood that the systematic murder of individuals belonging (or thought to belong) to a specific group constitutes genocide, the legal implications of the use of the term would require decisive action on the part of the international community - action it was neither willing nor prepared to take. The U.S. State Department tiptoed around the issue by infamously referring to \"acts of genocide [that] may have occurred\" in Rwanda; when asked by a journalist how many \"acts of genocide\" are required for genocide to be recognized as having taken place, the State Department provided no substantive response. For many years following the Rwandan genocide, courts in France, a country which carefully and unconscionably backed the Hutu majority during the war based on long-standing ties, continued to attempt to promulgate the idea of a \"double genocide\" - the notion that Tutsis allegedly perpetrated just as many \"acts of genocide\" against the Hutus as did the Hutus against the Tutsis, and that both sides were to blame in equal measure for the horrors that followed."
   ]
  },
  {
   "cell_type": "markdown",
   "metadata": {},
   "source": [
    "**Act II. Bosnia.**"
   ]
  },
  {
   "cell_type": "markdown",
   "metadata": {},
   "source": [
    "Between July 11-13 1995, over 8,000 Bosnian Muslim men and boys were massacred by Bosnian Serb factions in the enclave of Srebrenica, which had been declared a \"safe area\" by the UN two years prior. The Dayton Peace Accords were signed in December 1995, and in the years that followed, countless Serb officials and military commanders have been indicted on charges of genocide and war crimes by the International Criminal Tribunal for the former Yugoslavia (ICTY). Twenty years later, in July 2015, the Russian Federation, a supporter of the Serbs, vetoed a Security Council resolution that would have recognized the events that took place in Srebrenica in the summer of 1995 as \"genocide\", claiming the use of the term \"genocide\" in regards to Srebrenica was \"not constructive, confrontational and politically motivated\". "
   ]
  },
  {
   "cell_type": "markdown",
   "metadata": {},
   "source": [
    "As noted above, following World War II and the Nuremberg Trials, the term \"genocide\" took on legal and political implications - if genocide is proven or believed to have taken place, key players within the international community must act or else be prepared to answer uncomfortable questions on their inaction. Instances in which recognized political regimes (state actors) are believed to have perpetrated genocide, such as the extermination of Armenians by Ottoman authorities in 1915, continue to be highly contentious - if genocide is recognized as such, indictments, prosecutions, and reparations must follow. "
   ]
  },
  {
   "cell_type": "markdown",
   "metadata": {},
   "source": [
    "**Genocide in UN Security Council resolutions**"
   ]
  },
  {
   "cell_type": "markdown",
   "metadata": {},
   "source": [
    "Exploring the text of UN Security Council resolutions from 1994 to 2014 allows us to see how the UN has struggled with accepting the use of the term \"genocide\" over the years.  "
   ]
  },
  {
   "cell_type": "markdown",
   "metadata": {},
   "source": [
    "First, I built and read in a corpus of Security Council resolutions with the help of the Plaintext Corpus Reader within the Natural Language Toolkit (NTLK). All resolution files are available [on GitHub](https://github.com/wandergram/datsci/tree/master/UN/corpus)."
   ]
  },
  {
   "cell_type": "code",
   "execution_count": null,
   "metadata": {
    "collapsed": false
   },
   "outputs": [],
   "source": [
    "import nltk\n",
    "from nltk.corpus import PlaintextCorpusReader\n",
    "corpus_root = 'corpus/unscr/' # set root directory\n",
    "scrs = PlaintextCorpusReader(corpus_root, '.*') # define and read in corpus \n",
    "scrs.fileids() # prints out a list of all filenames in the format YEAR-DOCUMENTNUMBER.txt"
   ]
  },
  {
   "cell_type": "markdown",
   "metadata": {},
   "source": [
    "Next, I plotted the frequency distribution of the term \"genocide\" across years."
   ]
  },
  {
   "cell_type": "code",
   "execution_count": null,
   "metadata": {
    "collapsed": true
   },
   "outputs": [],
   "source": [
    "cfd = nltk.ConditionalFreqDist(\n",
    "    (target, fileid[:4]) # separates the years out of the filenames to use as points along the X axis\n",
    "    for fileid in scrs.fileids()\n",
    "    for w in scrs.words(fileid)\n",
    "    for target in ['genocide'] \n",
    "    if w.lower().startswith(target)) # note the \"startswith\" - more on that below\n",
    "\n",
    "cfd.plot()"
   ]
  },
  {
   "cell_type": "markdown",
   "metadata": {},
   "source": [
    "The plot demonstrates some interesting trends: while the UN was generally hesitant to refer to genocide by name in the 1990s, the events (and humiliation) of that decade led the international community to reconsider its position on genocide in 2000, likely in light of the war in Kosovo. Though genocide continued throughout the world, notably in Darfur and South Sudan, in the first decade of the new millenium, the term did not get much airtime at the Security Council until 2014, when we see a sharp uptick in the number of references to genocide in Security Council resolutions. "
   ]
  },
  {
   "cell_type": "markdown",
   "metadata": {},
   "source": [
    "An educated hypothesis to explain this sea change has to do with the types of groups believed to have been responsible for genocide in 2014 - unlike in earlier cases, where the perpetrators were largely established state actors (regimes), 2014 saw an intensification of attacks against civilians by non-state actors such as ISIS and Boko Haram. Accusing a standing government of perpetrating genocide requires exceptional political will along a unified front, since the governments in question stand at the helm of UN member states and get a seat at the table in the UN General Assembly on par with everyone else. Moreover, calls for the prosecution of heads of state and government will surely follow such accusations, and that would make for very awkward diplomatic meetings. On the other hand, accusing an amorphous terrorist group of doing the same requires very little, so genocide is much easier to recognize as having taken place when the perpetrators operate outside of a multilateral intergovernmental community structure.  "
   ]
  },
  {
   "cell_type": "markdown",
   "metadata": {},
   "source": [
    "You'll note that the code above includes the function \"startswith\" and searches for the full term \"genocide\". This was initially a mistake on my part - I should have searched for \"genocid\" to allow for the recognition of terms such as \"genocidal\" and \"genocidaire(s)\" (perpetrators of genocide, commonly used to refer to Rwandan and Congolese war criminals). However, searching for either of the terms above returns an error - neither term has been used in Security Council resolutions passed between 1994 and 2014:"
   ]
  },
  {
   "cell_type": "code",
   "execution_count": null,
   "metadata": {
    "collapsed": true
   },
   "outputs": [],
   "source": [
    "cfd = nltk.ConditionalFreqDist(\n",
    "    (target, fileid[:4]) \n",
    "    for fileid in scrs.fileids()\n",
    "    for w in scrs.words(fileid)\n",
    "    for target in ['genocidal', 'genocidaire'] \n",
    "    if w.lower().startswith(target))\n",
    "\n",
    "cfd.plot()"
   ]
  },
  {
   "cell_type": "markdown",
   "metadata": {},
   "source": [
    "The fact that neither \"genocidal\" (understood to most frequently be used in the collocation \"genocidal regime\") nor \"genocidaire(s)\" have been used in Security Council resolutions is an interesting reflection of the point made earlier - the Security Council shies away from making bold statements accusing regimes and their officials of genocide. In cases where standing regimes are implicated in war crimes, such as those of Darfur and South Sudan (from 2003 onward), the Council seems to prefer the terms \"atrocity (-ies)\", \"massacre(s)\", and \"cleansing\" (presumed to always be used in the collocation \"ethnic cleansing\"):"
   ]
  },
  {
   "cell_type": "code",
   "execution_count": null,
   "metadata": {
    "collapsed": true
   },
   "outputs": [],
   "source": [
    "cfd = nltk.ConditionalFreqDist(\n",
    "    (target, fileid[:4]) \n",
    "    for fileid in scrs.fileids()\n",
    "    for w in scrs.words(fileid)\n",
    "    for target in ['atrocit', 'massacre', 'cleansing', 'genocide'] \n",
    "    if w.lower().startswith(target))\n",
    "\n",
    "cfd.plot()"
   ]
  },
  {
   "cell_type": "markdown",
   "metadata": {},
   "source": [
    "Though ethnic cleansing is a legally defined war crime, it does not always constitute genocide and may consist of expelling civilians from the territories they inhabit, but not necessarily murdering them. \"Atrocities\" and \"massacres\" have no legal definition and as such can be used relatively \"freely\", since there is no clearly defined legal point at which the number of \"atrocities\" committed reaches a critical mass and must be dealt with by an international tribunal.  "
   ]
  },
  {
   "cell_type": "markdown",
   "metadata": {},
   "source": []
  }
 ],
 "metadata": {
  "kernelspec": {
   "display_name": "Python 2",
   "language": "python",
   "name": "python2"
  },
  "language_info": {
   "codemirror_mode": {
    "name": "ipython",
    "version": 2
   },
   "file_extension": ".py",
   "mimetype": "text/x-python",
   "name": "python",
   "nbconvert_exporter": "python",
   "pygments_lexer": "ipython2",
   "version": "2.7.9"
  }
 },
 "nbformat": 4,
 "nbformat_minor": 0
}
