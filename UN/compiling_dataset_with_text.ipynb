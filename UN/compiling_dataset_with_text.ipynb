{
 "cells": [
  {
   "cell_type": "markdown",
   "metadata": {},
   "source": [
    "## Compiling the complete UN dataset with input text, training classifiers with scikit-learn"
   ]
  },
  {
   "cell_type": "code",
   "execution_count": 1,
   "metadata": {
    "collapsed": true
   },
   "outputs": [],
   "source": [
    "import glob \n",
    "\n",
    "# working dir: UN/\n",
    "# read all files in directory into a list, where 1 file = 1 list element\n",
    "list_of_meetings = []\n",
    "for filename in glob.glob('corpus/meeting_records_clean_final/*.txt'):\n",
    "     with open(filename, 'r') as f:\n",
    "         list_of_meetings.append(f.read())\n",
    "         f.close()"
   ]
  },
  {
   "cell_type": "code",
   "execution_count": 2,
   "metadata": {
    "collapsed": false
   },
   "outputs": [
    {
     "data": {
      "text/plain": [
       "1236"
      ]
     },
     "execution_count": 2,
     "metadata": {},
     "output_type": "execute_result"
    }
   ],
   "source": [
    "len(list_of_meetings) # length of list should equal number of files = 1236 "
   ]
  },
  {
   "cell_type": "code",
   "execution_count": 3,
   "metadata": {
    "collapsed": true
   },
   "outputs": [],
   "source": [
    "# clean text data within the list\n",
    "list_of_meetings = [x.replace('\\n', ' ') for x in list_of_meetings]\n",
    "list_of_meetings = [x.replace('_', ' ') for x in list_of_meetings]"
   ]
  },
  {
   "cell_type": "code",
   "execution_count": 4,
   "metadata": {
    "collapsed": true
   },
   "outputs": [],
   "source": [
    "# create pandas Series from list \n",
    "import pandas as pd\n",
    "meetingseries = pd.Series(list_of_meetings)"
   ]
  },
  {
   "cell_type": "code",
   "execution_count": 5,
   "metadata": {
    "collapsed": true
   },
   "outputs": [],
   "source": [
    "# create DF from Series\n",
    "meetingframe = meetingseries.to_frame('meeting_text') # create df, name column \"meeting_text\""
   ]
  },
  {
   "cell_type": "code",
   "execution_count": 6,
   "metadata": {
    "collapsed": true
   },
   "outputs": [],
   "source": [
    "# set index for dataframe merge\n",
    "meetingframe['id'] = meetingframe.index"
   ]
  },
  {
   "cell_type": "code",
   "execution_count": 7,
   "metadata": {
    "collapsed": true
   },
   "outputs": [],
   "source": [
    "# read in working CSV file\n",
    "# working dir: UN/\n",
    "recs = pd.read_table('clean_records_copy.csv', sep=',')"
   ]
  },
  {
   "cell_type": "code",
   "execution_count": 8,
   "metadata": {
    "collapsed": true
   },
   "outputs": [],
   "source": [
    "# set index for df merge\n",
    "recs['id'] = recs.index"
   ]
  },
  {
   "cell_type": "code",
   "execution_count": 9,
   "metadata": {
    "collapsed": true
   },
   "outputs": [],
   "source": [
    "# Merge on 'id' column\n",
    "full_data = pd.merge(recs, meetingframe)"
   ]
  },
  {
   "cell_type": "code",
   "execution_count": 10,
   "metadata": {
    "collapsed": true
   },
   "outputs": [],
   "source": [
    "# drop 'id' column\n",
    "full_data.drop('id', axis=1, inplace=True)"
   ]
  },
  {
   "cell_type": "code",
   "execution_count": 11,
   "metadata": {
    "collapsed": false
   },
   "outputs": [
    {
     "data": {
      "text/html": [
       "<div>\n",
       "<table border=\"1\" class=\"dataframe\">\n",
       "  <thead>\n",
       "    <tr style=\"text-align: right;\">\n",
       "      <th></th>\n",
       "      <th>record</th>\n",
       "      <th>day</th>\n",
       "      <th>press_release</th>\n",
       "      <th>topic</th>\n",
       "      <th>year</th>\n",
       "      <th>category</th>\n",
       "      <th>outcome</th>\n",
       "      <th>region</th>\n",
       "      <th>record_number</th>\n",
       "      <th>meeting_text</th>\n",
       "    </tr>\n",
       "  </thead>\n",
       "  <tbody>\n",
       "    <tr>\n",
       "      <th>0</th>\n",
       "      <td>S/PV.3326</td>\n",
       "      <td>6-Jan</td>\n",
       "      <td>SC/5770</td>\n",
       "      <td>Rwanda</td>\n",
       "      <td>1994</td>\n",
       "      <td>0</td>\n",
       "      <td>S/RES/893 (1994)</td>\n",
       "      <td>4</td>\n",
       "      <td>3326</td>\n",
       "      <td>ÔªøUNITED\\r NATIONS\\r S\\r Security Council\\r P...</td>\n",
       "    </tr>\n",
       "    <tr>\n",
       "      <th>1</th>\n",
       "      <td>S/PV.3329</td>\n",
       "      <td>14-Jan</td>\n",
       "      <td>SC/5775</td>\n",
       "      <td>South Africa</td>\n",
       "      <td>1994</td>\n",
       "      <td>0</td>\n",
       "      <td>S/RES/894 (1994)</td>\n",
       "      <td>4</td>\n",
       "      <td>3329</td>\n",
       "      <td>ÔªøUNITED\\r NATIONS\\r S\\r Security Council\\r P...</td>\n",
       "    </tr>\n",
       "    <tr>\n",
       "      <th>2</th>\n",
       "      <td>S/PV.3331</td>\n",
       "      <td>28-Jan</td>\n",
       "      <td>SC/5779</td>\n",
       "      <td>Middle East  UNIFIL</td>\n",
       "      <td>1994</td>\n",
       "      <td>0</td>\n",
       "      <td>S/RES/895 (1994)</td>\n",
       "      <td>3</td>\n",
       "      <td>3331</td>\n",
       "      <td>UNITED SNATIONS Security Council PROVISIONAL S...</td>\n",
       "    </tr>\n",
       "    <tr>\n",
       "      <th>3</th>\n",
       "      <td>S/PV.3332</td>\n",
       "      <td>31-Jan</td>\n",
       "      <td>SC/5780</td>\n",
       "      <td>Georgia</td>\n",
       "      <td>1994</td>\n",
       "      <td>0</td>\n",
       "      <td>S/RES/896 (1994)</td>\n",
       "      <td>5</td>\n",
       "      <td>3332</td>\n",
       "      <td>UNITED SNATIONS Security Council PROVISIONAL S...</td>\n",
       "    </tr>\n",
       "    <tr>\n",
       "      <th>4</th>\n",
       "      <td>S/PV.3334</td>\n",
       "      <td>4-Feb</td>\n",
       "      <td>SC/5782</td>\n",
       "      <td>Somalia</td>\n",
       "      <td>1994</td>\n",
       "      <td>1</td>\n",
       "      <td>S/RES/897 (1994)</td>\n",
       "      <td>4</td>\n",
       "      <td>3334</td>\n",
       "      <td>UNITEDUNITED SNATIONSNATIONS Security Council ...</td>\n",
       "    </tr>\n",
       "  </tbody>\n",
       "</table>\n",
       "</div>"
      ],
      "text/plain": [
       "      record     day press_release                topic  year  category  \\\n",
       "0  S/PV.3326   6-Jan       SC/5770               Rwanda  1994         0   \n",
       "1  S/PV.3329  14-Jan       SC/5775         South Africa  1994         0   \n",
       "2  S/PV.3331  28-Jan       SC/5779  Middle East  UNIFIL  1994         0   \n",
       "3  S/PV.3332  31-Jan       SC/5780              Georgia  1994         0   \n",
       "4  S/PV.3334   4-Feb       SC/5782              Somalia  1994         1   \n",
       "\n",
       "            outcome  region record_number  \\\n",
       "0  S/RES/893 (1994)       4          3326   \n",
       "1  S/RES/894 (1994)       4          3329   \n",
       "2  S/RES/895 (1994)       3          3331   \n",
       "3  S/RES/896 (1994)       5          3332   \n",
       "4  S/RES/897 (1994)       4          3334   \n",
       "\n",
       "                                        meeting_text  \n",
       "0  ÔªøUNITED\\r NATIONS\\r S\\r Security Council\\r P...  \n",
       "1  ÔªøUNITED\\r NATIONS\\r S\\r Security Council\\r P...  \n",
       "2  UNITED SNATIONS Security Council PROVISIONAL S...  \n",
       "3  UNITED SNATIONS Security Council PROVISIONAL S...  \n",
       "4  UNITEDUNITED SNATIONSNATIONS Security Council ...  "
      ]
     },
     "execution_count": 11,
     "metadata": {},
     "output_type": "execute_result"
    }
   ],
   "source": [
    "# explore & check dataframe\n",
    "full_data.head()"
   ]
  },
  {
   "cell_type": "markdown",
   "metadata": {},
   "source": [
    "## Training a Naive Bayes classifier using scikit-learn"
   ]
  },
  {
   "cell_type": "code",
   "execution_count": 12,
   "metadata": {
    "collapsed": true
   },
   "outputs": [],
   "source": [
    "# Train test split\n",
    "from sklearn.cross_validation import train_test_split\n",
    "X_train, X_test, y_train, y_test = train_test_split(full_data.meeting_text, full_data.category, random_state=1)"
   ]
  },
  {
   "cell_type": "code",
   "execution_count": 13,
   "metadata": {
    "collapsed": false
   },
   "outputs": [
    {
     "data": {
      "text/plain": [
       "(927,)"
      ]
     },
     "execution_count": 13,
     "metadata": {},
     "output_type": "execute_result"
    }
   ],
   "source": [
    "X_train.shape # 927"
   ]
  },
  {
   "cell_type": "code",
   "execution_count": 14,
   "metadata": {
    "collapsed": false
   },
   "outputs": [
    {
     "data": {
      "text/plain": [
       "(309,)"
      ]
     },
     "execution_count": 14,
     "metadata": {},
     "output_type": "execute_result"
    }
   ],
   "source": [
    "X_test.shape # 309"
   ]
  },
  {
   "cell_type": "code",
   "execution_count": 15,
   "metadata": {
    "collapsed": true
   },
   "outputs": [],
   "source": [
    "# tokenizing text\n",
    "from sklearn.feature_extraction.text import CountVectorizer"
   ]
  },
  {
   "cell_type": "code",
   "execution_count": 16,
   "metadata": {
    "collapsed": true
   },
   "outputs": [],
   "source": [
    "vect = CountVectorizer(ngram_range=(5,5), stop_words = 'english', min_df=2) # set ngram range of 5\n",
    "train_dtm = vect.fit_transform(X_train)\n",
    "test_dtm = vect.transform(X_test)"
   ]
  },
  {
   "cell_type": "code",
   "execution_count": 18,
   "metadata": {
    "collapsed": false
   },
   "outputs": [],
   "source": [
    "from sklearn.naive_bayes import MultinomialNB\n",
    "nb = MultinomialNB()\n",
    "nb.fit(train_dtm, y_train)"
   ]
  },
  {
   "cell_type": "code",
   "execution_count": 19,
   "metadata": {
    "collapsed": true
   },
   "outputs": [],
   "source": [
    "y_pred_class = nb.predict(test_dtm)"
   ]
  },
  {
   "cell_type": "code",
   "execution_count": 20,
   "metadata": {
    "collapsed": false
   },
   "outputs": [
    {
     "data": {
      "text/plain": [
       "0.75728155339805825"
      ]
     },
     "execution_count": 20,
     "metadata": {},
     "output_type": "execute_result"
    }
   ],
   "source": [
    "from sklearn import metrics\n",
    "metrics.accuracy_score(y_test, y_pred_class) # 0.75"
   ]
  },
  {
   "cell_type": "code",
   "execution_count": 25,
   "metadata": {
    "collapsed": true
   },
   "outputs": [],
   "source": [
    "# 57% for ngram_range 1,2\n",
    "# 66% with ngram_range 2,3 \n",
    "# 69% with ngram_range 2,5\n",
    "# 74% with ngram_range 2,5, stopwords included\n",
    "# 70% with ngram_range 1,5, stopwords included\n",
    "# 75% with ngram_range 5,5, stopwords included"
   ]
  },
  {
   "cell_type": "code",
   "execution_count": 26,
   "metadata": {
    "collapsed": false
   },
   "outputs": [
    {
     "data": {
      "text/plain": [
       "array([[126,  63],\n",
       "       [ 12, 108]])"
      ]
     },
     "execution_count": 26,
     "metadata": {},
     "output_type": "execute_result"
    }
   ],
   "source": [
    "metrics.confusion_matrix(y_test, y_pred_class)"
   ]
  },
  {
   "cell_type": "code",
   "execution_count": 27,
   "metadata": {
    "collapsed": false
   },
   "outputs": [
    {
     "name": "stdout",
     "output_type": "stream",
     "text": [
      "[  2.04026494e-205   1.40734966e-003   1.00000000e+000   9.97027111e-001\n",
      "   1.00000000e+000   2.58601125e-098   3.98003291e-013   1.54813887e-052\n",
      "   1.05754053e-045   1.00000000e+000   1.00000000e+000   9.83396225e-028\n",
      "   1.43234278e-031   1.00000000e+000   1.00000000e+000   1.14944079e-009\n",
      "   1.50890175e-067   1.00000000e+000   2.14226955e-089   9.81912299e-001\n",
      "   1.00000000e+000   1.00000000e+000   8.50817877e-017   1.00000000e+000\n",
      "   4.60969995e-038   1.00000000e+000   1.00000000e+000   1.00000000e+000\n",
      "   4.65402516e-076   1.00000000e+000   1.00000000e+000   1.29945896e-084\n",
      "   1.00000000e+000   1.00000000e+000   1.00000000e+000   2.89966014e-010\n",
      "   1.00000000e+000   2.01657568e-010   2.72060552e-005   2.33892765e-063\n",
      "   1.00000000e+000   8.53149977e-043   1.75974405e-265   1.00000000e+000\n",
      "   2.67130560e-017   1.63627894e-015   8.89755056e-039   1.12216060e-047\n",
      "   1.00000000e+000   1.45634535e-066   1.64615626e-044   1.39859585e-216\n",
      "   1.00000000e+000   9.99544386e-001   1.00000000e+000   1.00000000e+000\n",
      "   8.94974594e-077   1.00000000e+000   1.00000000e+000   1.00000000e+000\n",
      "   1.00000000e+000   1.00000000e+000   9.98151675e-001   1.00000000e+000\n",
      "   1.60166452e-027   1.00000000e+000   1.00000000e+000   1.00000000e+000\n",
      "   7.13526195e-002   3.16554387e-014   1.78309075e-007   1.00000000e+000\n",
      "   1.00000000e+000   1.00000000e+000   1.16372585e-024   4.53266994e-072\n",
      "   9.81488530e-001   2.95288077e-036   1.00000000e+000   1.00000000e+000\n",
      "   9.35595413e-042   1.00000000e+000   5.43109793e-001   1.00000000e+000\n",
      "   1.00000000e+000   1.00000000e+000   1.00000000e+000   1.00000000e+000\n",
      "   4.19242796e-050   4.17205025e-019   1.00000000e+000   1.00000000e+000\n",
      "   4.13319495e-296   2.02188480e-072   4.95184928e-046   1.00000000e+000\n",
      "   2.60406911e-001   1.38209261e-082   1.00000000e+000   7.78836692e-134\n",
      "   1.00000000e+000   1.00000000e+000   1.27065497e-020   2.57164806e-012\n",
      "   1.00000000e+000   9.99810716e-001   3.42781419e-156   1.00000000e+000\n",
      "   1.76683778e-055   7.38259872e-013   1.00000000e+000   1.00000000e+000\n",
      "   8.46273549e-007   5.72936148e-006   1.00000000e+000   4.13077254e-012\n",
      "   1.00000000e+000   6.02649266e-102   1.00000000e+000   1.00000000e+000\n",
      "   2.60562601e-030   1.70741724e-018   2.96693708e-035   1.26024258e-056\n",
      "   1.70776637e-034   1.00000000e+000   1.01187233e-010   1.00000000e+000\n",
      "   9.99989522e-001   1.58944149e-043   1.07816809e-270   1.00000000e+000\n",
      "   1.32548492e-016   1.00000000e+000   1.98590860e-006   1.81867702e-058\n",
      "   6.96239422e-004   9.99220555e-001   1.11285708e-030   1.59424062e-039\n",
      "   1.06234937e-048   9.99697342e-001   1.00000000e+000   5.94721537e-001\n",
      "   1.00000000e+000   1.00000000e+000   1.08482194e-020   1.00000000e+000\n",
      "   1.25971921e-024   1.00000000e+000   1.89709643e-036   5.80120090e-070\n",
      "   9.99995791e-001   4.25910727e-005   1.00000000e+000   1.49483307e-049\n",
      "   7.66937747e-049   1.00000000e+000   1.00000000e+000   1.00000000e+000\n",
      "   1.39327836e-017   1.28464925e-057   1.00000000e+000   1.00000000e+000\n",
      "   1.72494168e-001   1.32210843e-026   1.00000000e+000   8.90016891e-137\n",
      "   6.91332014e-048   2.33155556e-036   1.32810901e-024   1.00000000e+000\n",
      "   9.99999245e-001   8.29441559e-001   1.71051427e-011   1.00000000e+000\n",
      "   8.30786668e-012   1.78557204e-068   1.00000000e+000   1.00000000e+000\n",
      "   8.27112031e-046   1.00000000e+000   1.00000000e+000   9.98034468e-001\n",
      "   1.00000000e+000   1.00000000e+000   9.99986633e-001   1.00000000e+000\n",
      "   2.14413151e-020   9.99507808e-001   2.82561689e-044   1.07577124e-265\n",
      "   1.00000000e+000   1.00000000e+000   8.64563187e-027   1.00000000e+000\n",
      "   3.64330543e-015   4.36380601e-070   2.39723623e-060   6.50609180e-056\n",
      "   7.36509841e-002   1.00000000e+000   1.00000000e+000   1.00000000e+000\n",
      "   9.99999994e-001   1.00000000e+000   1.00000000e+000   1.00000000e+000\n",
      "   1.33217630e-088   3.19977184e-045   1.00000000e+000   2.18489035e-014\n",
      "   2.35544678e-034   1.00000000e+000   1.00000000e+000   3.25793114e-051\n",
      "   9.98871959e-001   7.61697924e-052   3.24531147e-007   9.99999733e-001\n",
      "   1.00000000e+000   1.00000000e+000   9.99774429e-001   1.92465484e-042\n",
      "   5.93361515e-107   1.00000000e+000   1.12192672e-004   1.00000000e+000\n",
      "   1.00000000e+000   1.00000000e+000   1.00000000e+000   1.00000000e+000\n",
      "   4.59422729e-015   6.76056493e-023   1.00000000e+000   4.56688681e-211\n",
      "   1.48249566e-036   1.00000000e+000   2.29363035e-040   9.99957886e-001\n",
      "   8.71395499e-084   1.00000000e+000   6.00129415e-033   1.00000000e+000\n",
      "   1.00000000e+000   3.30887370e-017   1.00000000e+000   6.64331453e-001\n",
      "   4.58517225e-035   9.99999886e-001   3.05126753e-191   1.00000000e+000\n",
      "   1.00000000e+000   6.72946636e-100   1.00000000e+000   1.00000000e+000\n",
      "   8.40502769e-045   9.99997967e-001   1.00000000e+000   4.25158664e-013\n",
      "   1.00000000e+000   1.96577241e-081   9.14875183e-222   1.09783266e-041\n",
      "   1.00000000e+000   1.00000000e+000   7.28999384e-045   1.00000000e+000\n",
      "   1.06333451e-023   1.00000000e+000   8.12532997e-026   2.30597814e-054\n",
      "   1.00000000e+000   1.00000000e+000   1.58612874e-171   1.00000000e+000\n",
      "   1.99257863e-086   1.00000000e+000   1.00000000e+000   1.00000000e+000\n",
      "   1.00000000e+000   1.00000000e+000   1.00000000e+000   1.00000000e+000\n",
      "   1.28493410e-013   9.08499784e-054   1.00000000e+000   1.00000000e+000\n",
      "   1.00000000e+000   1.00000000e+000   3.87132579e-043   2.20680766e-044\n",
      "   1.00000000e+000   1.00000000e+000   1.00000000e+000   1.00000000e+000\n",
      "   1.00000000e+000   2.24777155e-020   1.00000000e+000   1.00000000e+000\n",
      "   1.00000000e+000   1.21978260e-100   1.00000000e+000   2.53459080e-049\n",
      "   4.03516272e-017   1.00000000e+000   1.00000000e+000   1.28171405e-045\n",
      "   1.00000000e+000]\n"
     ]
    },
    {
     "data": {
      "text/plain": [
       "0.82028218694885358"
      ]
     },
     "execution_count": 27,
     "metadata": {},
     "output_type": "execute_result"
    }
   ],
   "source": [
    "y_pred_prob = nb.predict_proba(test_dtm)[:, 1]\n",
    "print y_pred_prob # to check\n",
    "metrics.roc_auc_score(y_test, y_pred_prob) # 0.82"
   ]
  },
  {
   "cell_type": "code",
   "execution_count": 28,
   "metadata": {
    "collapsed": false
   },
   "outputs": [
    {
     "data": {
      "text/plain": [
       "1041    United Nations S/PV.6512 Security Council Sixt...\n",
       "737     United Nations S/PV.5401 Security Council Sixt...\n",
       "581     United Nations S/PV.4819 Security Council Fift...\n",
       "694     United Nations S/PV.5247 Security Council Sixt...\n",
       "419     United Nations S/PV.4268 Security Council Fift...\n",
       "940     United Nations S/PV.6116 Security Council Sixt...\n",
       "1079    United Nations S/PV.6644 Security Council Sixt...\n",
       "1024    United Nations S/PV.6451 Security Council Sixt...\n",
       "897     United Nations S/PV.5946 Security Council Sixt...\n",
       "527     United Nations S/PV.4667 Security Council Fift...\n",
       "576     United Nations S/PV.4807 Security Council Fift...\n",
       "868     United Nations S/PV.5829 Security Council Sixt...\n",
       "873     United Nations S/PV.5848 Security Council Sixt...\n",
       "909     United Nations S/PV.5992 Security Council Sixt...\n",
       "1126    This record contains the text of speeches deli...\n",
       "1189    United Nations S/PV.7086 asdfSecurity Council ...\n",
       "771     United Nations S/PV.5507 Security Council Sixt...\n",
       "741     United Nations S/PV.5407 Security Council Sixt...\n",
       "1023    United Nations S/PV.6450 Security Council Sixt...\n",
       "1060    United Nations S/PV.6579 Security Council Sixt...\n",
       "613     United Nations S/PV.4938 Security Council Fift...\n",
       "1028    United Nations S/PV.6459 Security Council Sixt...\n",
       "1080    United Nations S/PV.6645 Security Council Sixt...\n",
       "1173    United Nations S/PV.7013 asdfSecurity Council ...\n",
       "674     United Nations S/PV.5171 Security Council Sixt...\n",
       "817     United Nations S/PV.5647 Security Council Sixt...\n",
       "80      United Nations S/PV.3502 95-85150 (E) This rec...\n",
       "1076    United Nations S/PV.6634 Security Council Sixt...\n",
       "1125    This record contains the text of speeches deli...\n",
       "885     United Nations S/PV.5901 Security Council Sixt...\n",
       "                              ...                        \n",
       "956     United Nations S/PV.6189 Security Council Sixt...\n",
       "719     United Nations S/PV.5335 Security Council Sixt...\n",
       "403     United Nations S/PV.4199 Security Council Fift...\n",
       "1226    *1464810* 14-64810 (E) This record contains th...\n",
       "996     United Nations S/PV.6333 Security Council Sixt...\n",
       "584     United Nations S/PV.4829 Security Council Fift...\n",
       "623     United Nations S/PV.4988 Security Council Fift...\n",
       "1063    United Nations S/PV.6594 Security Council Sixt...\n",
       "1157    This record contains the text of speeches deli...\n",
       "579     United Nations S/PV.4814 Security Council Fift...\n",
       "1003    United Nations S/PV.6366 Security Council Sixt...\n",
       "875     United Nations S/PV.5856 Security Council Sixt...\n",
       "790     United Nations S/PV.5554 Security Council Sixt...\n",
       "51      United Nations S/PV.3432 94-86494 (E) This rec...\n",
       "693     United Nations S/PV.5246 Security Council Sixt...\n",
       "530     United Nations S/PV.4682 Security Council Fift...\n",
       "559     United Nations S/PV.4760 Security Council Fift...\n",
       "372     United Nations S/PV.4099 00-28170 (E) This rec...\n",
       "535     United Nations S/PV.4693 Security Council Fift...\n",
       "1005    United Nations S/PV.6375 Security Council Sixt...\n",
       "983     United Nations S/PV.6283 Security Council Sixt...\n",
       "857     United Nations S/PV.5795 Security Council Sixt...\n",
       "992     United Nations S/PV.6321 Security Council Sixt...\n",
       "997     United Nations S/PV.6335 Security Council Sixt...\n",
       "768     United Nations S/PV.5500 Security Council Sixt...\n",
       "670     United Nations S/PV.5160 Security Council Sixt...\n",
       "902     United Nations S/PV.5967 Security Council Sixt...\n",
       "861     United Nations S/PV.5809 Security Council Sixt...\n",
       "1014    United Nations S/PV.6414 Security Council Sixt...\n",
       "953     United Nations S/PV.6179 Security Council Sixt...\n",
       "Name: meeting_text, dtype: object"
      ]
     },
     "execution_count": 28,
     "metadata": {},
     "output_type": "execute_result"
    }
   ],
   "source": [
    "# false negatives\n",
    "X_test[y_test < y_pred_class]"
   ]
  },
  {
   "cell_type": "code",
   "execution_count": 29,
   "metadata": {
    "collapsed": false
   },
   "outputs": [
    {
     "data": {
      "text/plain": [
       "169    United Nations S/PV.3700 96-86353 (E) *9686353...\n",
       "309    United Nations S/PV.3965 99-85015 (E) This rec...\n",
       "350    United Nations S/PV.4050 99-86016 (E) This rec...\n",
       "49     United Nations S/PV.3430 94-86467 (E) This rec...\n",
       "335    United Nations S/PV.4014 99-85468 (E) This rec...\n",
       "6      United Nations S/PV.3343 94-85240 (E) This rec...\n",
       "47     United Nations S/PV.3413 94-86158 (E) This rec...\n",
       "422    United Nations S/PV.4282 Security Council Fift...\n",
       "267    United Nations S/PV.3894 98-85490 (E) This rec...\n",
       "325    United Nations S/PV.3999 99-85348 (E) This rec...\n",
       "348    United Nations S/PV.4045 99-85792 (E) This rec...\n",
       "134    United Nations S/PV.3619 96-85051 (E) This rec...\n",
       "Name: meeting_text, dtype: object"
      ]
     },
     "execution_count": 29,
     "metadata": {},
     "output_type": "execute_result"
    }
   ],
   "source": [
    "# false positives\n",
    "X_test[y_test > y_pred_class]\n",
    "\n",
    "# more false negatives, fewer false positives\n",
    "# higher specificity, lower sensitivity"
   ]
  },
  {
   "cell_type": "markdown",
   "metadata": {},
   "source": [
    "## Most informative features:"
   ]
  },
  {
   "cell_type": "code",
   "execution_count": 30,
   "metadata": {
    "collapsed": true
   },
   "outputs": [],
   "source": [
    "# Code source: Stack Overflow\n",
    "# http://stackoverflow.com/questions/11116697/how-to-get-most-informative-features-for-scikit-learn-classifiers\n",
    "# Used to get most informative features for linear models in scikit-learn\n",
    "# Step 1. Define function\n",
    "def show_most_informative_features(vectorizer, classifer, n=20):\n",
    "    feature_names = vectorizer.get_feature_names()\n",
    "    coefs_with_fns = sorted(zip(nb.coef_[0], feature_names))\n",
    "    top = zip(coefs_with_fns[:n], coefs_with_fns[:-(n + 1):-1])\n",
    "    for (coef_1, fn_1), (coef_2, fn_2) in top:\n",
    "        print \"\\t%.4f\\t%-15s\\t\\t%.4f\\t%-15s\" % (coef_1, fn_1, coef_2, fn_2)"
   ]
  },
  {
   "cell_type": "code",
   "execution_count": 31,
   "metadata": {
    "collapsed": false
   },
   "outputs": [
    {
     "name": "stdout",
     "output_type": "stream",
     "text": [
      "\t-11.9945\t000 people lost lives endless\t\t-5.1121\tkingdom great britain northern ireland\n",
      "\t-11.9945\t04 2014 meeting called order\t\t-5.1141\tunited kingdom great britain northern\n",
      "\t-11.9945\t07 2014 meeting called order\t\t-5.6974\tgreat britain northern ireland united\n",
      "\t-11.9945\t07 2014 president floor representative\t\t-5.8568\tnorthern ireland united states america\n",
      "\t-11.9945\t10 20 meeting called order\t\t-5.8568\tbritain northern ireland united states\n",
      "\t-11.9945\t10 20 new york president\t\t-6.0258\tsent signature member delegation concerned\n",
      "\t-11.9945\t10 2013 meeting called order\t\t-6.0284\tsecurity council corrections submitted original\n",
      "\t-11.9945\t10 despite present quiet israeli\t\t-6.0284\trecords security council corrections submitted\n",
      "\t-11.9945\t10 president like inform council\t\t-6.0309\ttext printed official records security\n",
      "\t-11.9945\t10 year capacity building plan\t\t-6.0309\tprinted official records security council\n",
      "\t-11.9945\t10 years security council äôs\t\t-6.0309\tofficial records security council corrections\n",
      "\t-11.9945\t1044 1996 send clear unambiguous\t\t-6.0309\tlanguages final text printed official\n",
      "\t-11.9945\t1062 contains text draft resolution\t\t-6.0309\tfinal text printed official records\n",
      "\t-11.9945\t1063 contains text draft resolution\t\t-6.0439\trecord sent signature member delegation\n",
      "\t-11.9945\t11 15 new york president\t\t-6.0439\tincorporated copy record sent signature\n",
      "\t-11.9945\t11 25 adoption agenda agenda\t\t-6.0439\tcopy record sent signature member\n",
      "\t-11.9945\t11 25 new york president\t\t-6.0465\tspeeches delivered languages final text\n",
      "\t-11.9945\t11 35 new york president\t\t-6.0465\tdelivered languages final text printed\n",
      "\t-11.9945\t11 50 new york president\t\t-6.0623\tsecurity council concluded present stage\n",
      "\t-11.9945\t11 april 1996 charg äôaffaires\t\t-6.0676\tpresent stage consideration item agenda\n",
      "None\n"
     ]
    }
   ],
   "source": [
    "# Step 2. Call function using our parameters:\n",
    "print show_most_informative_features(vect, nb)"
   ]
  },
  {
   "cell_type": "markdown",
   "metadata": {},
   "source": [
    "## Using logistic regression:"
   ]
  },
  {
   "cell_type": "code",
   "execution_count": 33,
   "metadata": {
    "collapsed": false
   },
   "outputs": [
    {
     "name": "stdout",
     "output_type": "stream",
     "text": [
      "0.847896440129\n"
     ]
    }
   ],
   "source": [
    "''' Logistic Regression '''\n",
    "\n",
    "from sklearn.linear_model import LogisticRegression\n",
    "logreg = LogisticRegression(C=1e9)\n",
    "logreg.fit(train_dtm, y_train)\n",
    "y_pred_class = logreg.predict(test_dtm)\n",
    "print metrics.accuracy_score(y_test, y_pred_class) # 84%"
   ]
  },
  {
   "cell_type": "code",
   "execution_count": null,
   "metadata": {
    "collapsed": true
   },
   "outputs": [],
   "source": []
  }
 ],
 "metadata": {
  "kernelspec": {
   "display_name": "Python 2",
   "language": "python",
   "name": "python2"
  },
  "language_info": {
   "codemirror_mode": {
    "name": "ipython",
    "version": 2
   },
   "file_extension": ".py",
   "mimetype": "text/x-python",
   "name": "python",
   "nbconvert_exporter": "python",
   "pygments_lexer": "ipython2",
   "version": "2.7.10"
  }
 },
 "nbformat": 4,
 "nbformat_minor": 0
}
