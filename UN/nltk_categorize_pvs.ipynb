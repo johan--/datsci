{
 "cells": [
  {
   "cell_type": "markdown",
   "metadata": {},
   "source": [
    "## Training a Naive Bayes classifier on input text data using NLTK"
   ]
  },
  {
   "cell_type": "markdown",
   "metadata": {},
   "source": [
    "The code below uses NLTK to train a Naive Bayes classifier on the corpus of UN Security Council meeting records (inputs). The records were previously divided into two folders based on the category of the corresponding outcome: soft action (category 0) or intervention (category 1)."
   ]
  },
  {
   "cell_type": "code",
   "execution_count": 1,
   "metadata": {
    "collapsed": true
   },
   "outputs": [],
   "source": [
    "import string\n",
    "from itertools import chain\n",
    "\n",
    "from nltk.corpus import stopwords\n",
    "from nltk.probability import FreqDist\n",
    "from nltk.classify import NaiveBayesClassifier as nbc\n",
    "from nltk.corpus import CategorizedPlaintextCorpusReader\n",
    "import nltk"
   ]
  },
  {
   "cell_type": "code",
   "execution_count": 2,
   "metadata": {
    "collapsed": true
   },
   "outputs": [],
   "source": [
    "# working dir: UN/\n",
    "mydir = 'corpus/meeting_records_final_categorized'\n",
    "\n",
    "mr = CategorizedPlaintextCorpusReader(mydir, r'(?!\\.).*\\.txt', cat_pattern=r'(intervention|soft_action)/.*', encoding='utf-8')\n",
    "stop = stopwords.words('english')\n",
    "documents = [([w for w in mr.words(i) if w.lower() not in stop and w.lower() not in string.punctuation], i.split('/')[0]) for i in mr.fileids()]\n",
    "\n",
    "word_features = FreqDist(chain(*[i for i,j in documents]))\n",
    "word_features = word_features.keys()[:100]\n",
    "\n",
    "numtrain = int(len(documents) * 90 / 100) # length of training data set to 90% of the corpus\n",
    "train_set = [({i:(i in tokens) for i in word_features}, tag) for tokens,tag in documents[:numtrain]]\n",
    "test_set = [({i:(i in tokens) for i in word_features}, tag) for tokens,tag  in documents[numtrain:]]\n",
    "\n",
    "classifier = nbc.train(train_set)"
   ]
  },
  {
   "cell_type": "code",
   "execution_count": 3,
   "metadata": {
    "collapsed": false
   },
   "outputs": [
    {
     "name": "stdout",
     "output_type": "stream",
     "text": [
      "0.870967741935\n"
     ]
    }
   ],
   "source": [
    "print nltk.classify.accuracy(classifier, test_set) # 87%"
   ]
  },
  {
   "cell_type": "code",
   "execution_count": 5,
   "metadata": {
    "collapsed": false
   },
   "outputs": [
    {
     "name": "stdout",
     "output_type": "stream",
     "text": [
      "Most Informative Features\n",
      "              immunities = True           interv : soft_a =      4.4 : 1.0\n",
      "               designing = True           soft_a : interv =      4.2 : 1.0\n",
      "                 Western = True           soft_a : interv =      3.5 : 1.0\n",
      "                   Croat = True           interv : soft_a =      3.2 : 1.0\n",
      "                  Larsen = True           soft_a : interv =      3.1 : 1.0\n",
      "                     273 = True           interv : soft_a =      2.8 : 1.0\n",
      "              affiliated = True           interv : soft_a =      2.5 : 1.0\n",
      "                 hanging = True           soft_a : interv =      2.5 : 1.0\n",
      "               localized = True           soft_a : interv =      2.5 : 1.0\n",
      "             distortions = True           soft_a : interv =      2.5 : 1.0\n",
      "              sustaining = True           soft_a : interv =      2.2 : 1.0\n",
      "               Initially = True           interv : soft_a =      2.0 : 1.0\n",
      "                   Pronk = True           interv : soft_a =      2.0 : 1.0\n",
      "                  shocks = True           interv : soft_a =      2.0 : 1.0\n",
      "              regularize = True           interv : soft_a =      2.0 : 1.0\n",
      "           steadfastness = True           soft_a : interv =      1.9 : 1.0\n",
      "                   UNITA = True           soft_a : interv =      1.9 : 1.0\n",
      "                  ÄúWith = True           interv : soft_a =      1.7 : 1.0\n",
      "                   rebel = True           interv : soft_a =      1.6 : 1.0\n",
      "                 succumb = True           soft_a : interv =      1.5 : 1.0\n",
      "             feasibility = True           interv : soft_a =      1.5 : 1.0\n",
      "                   Valle = True           soft_a : interv =      1.4 : 1.0\n",
      "             controversy = True           soft_a : interv =      1.4 : 1.0\n",
      "             reasserting = True           soft_a : interv =      1.4 : 1.0\n",
      "                     278 = True           soft_a : interv =      1.4 : 1.0\n",
      "                   woods = True           soft_a : interv =      1.4 : 1.0\n",
      "                Karadzic = True           interv : soft_a =      1.4 : 1.0\n",
      "                replaced = True           soft_a : interv =      1.3 : 1.0\n",
      "                  viable = True           soft_a : interv =      1.3 : 1.0\n",
      "              insecurity = True           soft_a : interv =      1.3 : 1.0\n",
      "                bringing = True           soft_a : interv =      1.2 : 1.0\n",
      "                mutinies = True           interv : soft_a =      1.2 : 1.0\n",
      "                 climbed = True           interv : soft_a =      1.2 : 1.0\n",
      "                     275 = True           interv : soft_a =      1.2 : 1.0\n",
      "                  errors = True           interv : soft_a =      1.2 : 1.0\n",
      "                   Erdut = True           interv : soft_a =      1.2 : 1.0\n",
      "                 wracked = True           interv : soft_a =      1.2 : 1.0\n",
      "                deferred = True           interv : soft_a =      1.2 : 1.0\n",
      "              Foundation = True           interv : soft_a =      1.2 : 1.0\n",
      "                     271 = True           interv : soft_a =      1.2 : 1.0\n",
      "               stipulate = True           interv : soft_a =      1.2 : 1.0\n",
      "                    Euro = True           interv : soft_a =      1.2 : 1.0\n",
      "                  golden = True           soft_a : interv =      1.2 : 1.0\n",
      "                 Western = False          interv : soft_a =      1.1 : 1.0\n",
      "               therefore = True           interv : soft_a =      1.1 : 1.0\n",
      "                   stern = True           soft_a : interv =      1.1 : 1.0\n",
      "                bringing = False          interv : soft_a =      1.0 : 1.0\n",
      "               therefore = False          soft_a : interv =      1.0 : 1.0\n",
      "                  viable = False          interv : soft_a =      1.0 : 1.0\n",
      "             populations = True           soft_a : interv =      1.0 : 1.0\n"
     ]
    }
   ],
   "source": [
    "classifier.show_most_informative_features(50) # determine 50 most informative features"
   ]
  }
 ],
 "metadata": {
  "kernelspec": {
   "display_name": "Python 2",
   "language": "python",
   "name": "python2"
  },
  "language_info": {
   "codemirror_mode": {
    "name": "ipython",
    "version": 2
   },
   "file_extension": ".py",
   "mimetype": "text/x-python",
   "name": "python",
   "nbconvert_exporter": "python",
   "pygments_lexer": "ipython2",
   "version": "2.7.10"
  }
 },
 "nbformat": 4,
 "nbformat_minor": 0
}
